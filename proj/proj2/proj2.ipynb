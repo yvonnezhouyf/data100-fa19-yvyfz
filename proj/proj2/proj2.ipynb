{
 "cells": [
  {
   "cell_type": "code",
   "execution_count": 1,
   "metadata": {
    "deletable": false,
    "editable": false
   },
   "outputs": [
    {
     "name": "stdout",
     "output_type": "stream",
     "text": [
      "=====================================================================\n",
      "Assignment: proj2\n",
      "OK, version v1.13.11\n",
      "=====================================================================\n",
      "\n"
     ]
    }
   ],
   "source": [
    "# Initialize OK\n",
    "from client.api.notebook import Notebook\n",
    "ok = Notebook('proj2.ok')"
   ]
  },
  {
   "cell_type": "markdown",
   "metadata": {},
   "source": [
    "# Project 2: Spam/Ham Classification\n",
    "## Feature Engineering, Logistic Regression, Cross Validation\n",
    "## Due Date: Sunday 11/24/19, 11:59PM\n",
    "\n",
    "**Collaboration Policy**\n",
    "\n",
    "Data science is a collaborative activity. While you may talk with others about\n",
    "the project, we ask that you **write your solutions individually**. If you do\n",
    "discuss the assignments with others please **include their names** at the top\n",
    "of your notebook."
   ]
  },
  {
   "cell_type": "markdown",
   "metadata": {},
   "source": [
    "**Collaborators**: *list collaborators here*"
   ]
  },
  {
   "cell_type": "markdown",
   "metadata": {
    "nbgrader": {
     "grade": false,
     "grade_id": "proj2",
     "locked": true,
     "schema_version": 2,
     "solution": false
    }
   },
   "source": [
    "## This Assignment\n",
    "In this project, you will use what you've learned in class to create a classifier that can distinguish spam (junk or commercial or bulk) emails from ham (non-spam) emails. In addition to providing some skeleton code to fill in, we will evaluate your work based on your model's accuracy and your written responses in this notebook.\n",
    "\n",
    "After this project, you should feel comfortable with the following:\n",
    "\n",
    "- Feature engineering with text data\n",
    "- Using sklearn libraries to process data and fit models\n",
    "- Validating the performance of your model and minimizing overfitting\n",
    "- Generating and analyzing precision-recall curves\n",
    "\n",
    "## Warning\n",
    "We've tried our best to filter the data for anything blatantly offensive as best as we can, but unfortunately there may still be some examples you may find in poor taste. If you encounter these examples and believe it is inappropriate for students, please let a TA know and we will try to remove it for future semesters. Thanks for your understanding!"
   ]
  },
  {
   "cell_type": "markdown",
   "metadata": {},
   "source": [
    "## Score Breakdown\n",
    "Question | Points\n",
    "--- | ---\n",
    "1a | 1\n",
    "1b | 1\n",
    "1c | 2\n",
    "2 | 3\n",
    "3a | 2\n",
    "3b | 2\n",
    "4 | 2\n",
    "5 | 2\n",
    "6a | 1\n",
    "6b | 1\n",
    "6c | 2\n",
    "6d | 2\n",
    "6e | 1\n",
    "6f | 3\n",
    "7 | 6\n",
    "8 | 6\n",
    "9 | 3\n",
    "10 | 15\n",
    "Total | 55"
   ]
  },
  {
   "cell_type": "markdown",
   "metadata": {
    "nbgrader": {
     "grade": false,
     "grade_id": "p1",
     "locked": true,
     "schema_version": 2,
     "solution": false
    }
   },
   "source": [
    "# Part I - Initial Analysis"
   ]
  },
  {
   "cell_type": "code",
   "execution_count": 2,
   "metadata": {
    "ExecuteTime": {
     "end_time": "2019-04-03T20:17:41.341673Z",
     "start_time": "2019-04-03T20:17:41.330307Z"
    },
    "nbgrader": {
     "grade": false,
     "grade_id": "imports",
     "locked": true,
     "schema_version": 2,
     "solution": false
    }
   },
   "outputs": [],
   "source": [
    "import numpy as np\n",
    "import pandas as pd\n",
    "\n",
    "import matplotlib.pyplot as plt\n",
    "%matplotlib inline\n",
    "\n",
    "import seaborn as sns\n",
    "sns.set(style = \"whitegrid\", \n",
    "        color_codes = True,\n",
    "        font_scale = 1.5)"
   ]
  },
  {
   "cell_type": "markdown",
   "metadata": {
    "nbgrader": {
     "grade": false,
     "grade_id": "loading",
     "locked": true,
     "schema_version": 2,
     "solution": false
    }
   },
   "source": [
    "### Loading in the Data\n",
    "\n",
    "In email classification, our goal is to classify emails as spam or not spam (referred to as \"ham\") using features generated from the text in the email. \n",
    "\n",
    "The dataset consists of email messages and their labels (0 for ham, 1 for spam). Your labeled training dataset contains 8348 labeled examples, and the test set contains 1000 unlabeled examples.\n",
    "\n",
    "Run the following cells to load in the data into DataFrames.\n",
    "\n",
    "The `train` DataFrame contains labeled data that you will use to train your model. It contains four columns:\n",
    "\n",
    "1. `id`: An identifier for the training example\n",
    "1. `subject`: The subject of the email\n",
    "1. `email`: The text of the email\n",
    "1. `spam`: 1 if the email is spam, 0 if the email is ham (not spam)\n",
    "\n",
    "The `test` DataFrame contains 1000 unlabeled emails. You will predict labels for these emails and submit your predictions to Kaggle for evaluation."
   ]
  },
  {
   "cell_type": "code",
   "execution_count": 3,
   "metadata": {
    "ExecuteTime": {
     "end_time": "2019-04-03T20:17:42.181245Z",
     "start_time": "2019-04-03T20:17:41.343927Z"
    },
    "nbgrader": {
     "grade": false,
     "grade_id": "fetch-data",
     "locked": true,
     "schema_version": 2,
     "solution": false
    }
   },
   "outputs": [
    {
     "name": "stdout",
     "output_type": "stream",
     "text": [
      "Using version already downloaded: Thu Dec 12 22:05:05 2019\n",
      "MD5 hash of file: 0380c4cf72746622947b9ca5db9b8be8\n",
      "Using version already downloaded: Thu Dec 12 22:05:02 2019\n",
      "MD5 hash of file: a2e7abd8c7d9abf6e6fafc1d1f9ee6bf\n"
     ]
    },
    {
     "data": {
      "text/html": [
       "<div>\n",
       "<style scoped>\n",
       "    .dataframe tbody tr th:only-of-type {\n",
       "        vertical-align: middle;\n",
       "    }\n",
       "\n",
       "    .dataframe tbody tr th {\n",
       "        vertical-align: top;\n",
       "    }\n",
       "\n",
       "    .dataframe thead th {\n",
       "        text-align: right;\n",
       "    }\n",
       "</style>\n",
       "<table border=\"1\" class=\"dataframe\">\n",
       "  <thead>\n",
       "    <tr style=\"text-align: right;\">\n",
       "      <th></th>\n",
       "      <th>id</th>\n",
       "      <th>subject</th>\n",
       "      <th>email</th>\n",
       "      <th>spam</th>\n",
       "    </tr>\n",
       "  </thead>\n",
       "  <tbody>\n",
       "    <tr>\n",
       "      <th>0</th>\n",
       "      <td>0</td>\n",
       "      <td>Subject: A&amp;L Daily to be auctioned in bankrupt...</td>\n",
       "      <td>url: http://boingboing.net/#85534171\\n date: n...</td>\n",
       "      <td>0</td>\n",
       "    </tr>\n",
       "    <tr>\n",
       "      <th>1</th>\n",
       "      <td>1</td>\n",
       "      <td>Subject: Wired: \"Stronger ties between ISPs an...</td>\n",
       "      <td>url: http://scriptingnews.userland.com/backiss...</td>\n",
       "      <td>0</td>\n",
       "    </tr>\n",
       "    <tr>\n",
       "      <th>2</th>\n",
       "      <td>2</td>\n",
       "      <td>Subject: It's just too small                  ...</td>\n",
       "      <td>&lt;html&gt;\\n &lt;head&gt;\\n &lt;/head&gt;\\n &lt;body&gt;\\n &lt;font siz...</td>\n",
       "      <td>1</td>\n",
       "    </tr>\n",
       "    <tr>\n",
       "      <th>3</th>\n",
       "      <td>3</td>\n",
       "      <td>Subject: liberal defnitions\\n</td>\n",
       "      <td>depends on how much over spending vs. how much...</td>\n",
       "      <td>0</td>\n",
       "    </tr>\n",
       "    <tr>\n",
       "      <th>4</th>\n",
       "      <td>4</td>\n",
       "      <td>Subject: RE: [ILUG] Newbie seeks advice - Suse...</td>\n",
       "      <td>hehe sorry but if you hit caps lock twice the ...</td>\n",
       "      <td>0</td>\n",
       "    </tr>\n",
       "  </tbody>\n",
       "</table>\n",
       "</div>"
      ],
      "text/plain": [
       "   id                                            subject  \\\n",
       "0   0  Subject: A&L Daily to be auctioned in bankrupt...   \n",
       "1   1  Subject: Wired: \"Stronger ties between ISPs an...   \n",
       "2   2  Subject: It's just too small                  ...   \n",
       "3   3                      Subject: liberal defnitions\\n   \n",
       "4   4  Subject: RE: [ILUG] Newbie seeks advice - Suse...   \n",
       "\n",
       "                                               email  spam  \n",
       "0  url: http://boingboing.net/#85534171\\n date: n...     0  \n",
       "1  url: http://scriptingnews.userland.com/backiss...     0  \n",
       "2  <html>\\n <head>\\n </head>\\n <body>\\n <font siz...     1  \n",
       "3  depends on how much over spending vs. how much...     0  \n",
       "4  hehe sorry but if you hit caps lock twice the ...     0  "
      ]
     },
     "execution_count": 3,
     "metadata": {},
     "output_type": "execute_result"
    }
   ],
   "source": [
    "from utils import fetch_and_cache_gdrive\n",
    "fetch_and_cache_gdrive('1SCASpLZFKCp2zek-toR3xeKX3DZnBSyp', 'train.csv')\n",
    "fetch_and_cache_gdrive('1ZDFo9OTF96B5GP2Nzn8P8-AL7CTQXmC0', 'test.csv')\n",
    "\n",
    "original_training_data = pd.read_csv('data/train.csv')\n",
    "test = pd.read_csv('data/test.csv')\n",
    "\n",
    "# Convert the emails to lower case as a first step to processing the text\n",
    "original_training_data['email'] = original_training_data['email'].str.lower()\n",
    "test['email'] = test['email'].str.lower()\n",
    "\n",
    "original_training_data.head()"
   ]
  },
  {
   "cell_type": "markdown",
   "metadata": {
    "deletable": false,
    "editable": false,
    "nbgrader": {
     "grade": false,
     "grade_id": "cell-34476156ed73b800",
     "locked": true,
     "schema_version": 2,
     "solution": false
    }
   },
   "source": [
    "### Question 1a\n",
    "First, let's check if our data contains any missing values. Fill in the cell below to print the number of NaN values in each column. If there are NaN values, replace them with appropriate filler values (i.e., NaN values in the `subject` or `email` columns should be replaced with empty strings). Print the number of NaN values in each column after this modification to verify that there are no NaN values left.\n",
    "\n",
    "Note that while there are no NaN values in the `spam` column, we should be careful when replacing NaN labels. Doing so without consideration may introduce significant bias into our model when fitting.\n",
    "\n",
    "*The provided test checks that there are no missing values in your dataset.*\n",
    "\n",
    "<!--\n",
    "BEGIN QUESTION\n",
    "name: q1a\n",
    "points: 1\n",
    "-->"
   ]
  },
  {
   "cell_type": "code",
   "execution_count": 7,
   "metadata": {
    "ExecuteTime": {
     "end_time": "2019-04-03T20:17:42.203231Z",
     "start_time": "2019-04-03T20:17:42.185104Z"
    },
    "nbgrader": {
     "grade": false,
     "grade_id": "cell-b1fb39d9b651ca1b",
     "locked": false,
     "schema_version": 2,
     "solution": true
    }
   },
   "outputs": [
    {
     "data": {
      "text/plain": [
       "(1000, 3)"
      ]
     },
     "execution_count": 7,
     "metadata": {},
     "output_type": "execute_result"
    }
   ],
   "source": [
    "original_training_data = original_training_data.fillna(\"\")\n",
    "#np.count_nonzero(pd.isnull(original_training_data.fillna(\"\")))\n",
    "#original_training_data.shape\n",
    "test.shape"
   ]
  },
  {
   "cell_type": "code",
   "execution_count": 6,
   "metadata": {
    "deletable": false,
    "editable": false
   },
   "outputs": [
    {
     "name": "stdout",
     "output_type": "stream",
     "text": [
      "~~~~~~~~~~~~~~~~~~~~~~~~~~~~~~~~~~~~~~~~~~~~~~~~~~~~~~~~~~~~~~~~~~~~~\n",
      "Running tests\n",
      "\n",
      "---------------------------------------------------------------------\n",
      "Test summary\n",
      "    Passed: 1\n",
      "    Failed: 0\n",
      "[ooooooooook] 100.0% passed\n",
      "\n"
     ]
    }
   ],
   "source": [
    "ok.grade(\"q1a\");"
   ]
  },
  {
   "cell_type": "markdown",
   "metadata": {
    "deletable": false,
    "editable": false,
    "nbgrader": {
     "grade": false,
     "grade_id": "q1",
     "locked": true,
     "schema_version": 2,
     "solution": false
    }
   },
   "source": [
    "### Question 1b\n",
    "\n",
    "In the cell below, print the text of the first ham and the first spam email in the original training set.\n",
    "\n",
    "*The provided tests just ensure that you have assigned `first_ham` and `first_spam` to rows in the data, but only the hidden tests check that you selected the correct observations.*\n",
    "\n",
    "<!--\n",
    "BEGIN QUESTION\n",
    "name: q1b\n",
    "points: 1\n",
    "-->"
   ]
  },
  {
   "cell_type": "code",
   "execution_count": 6,
   "metadata": {
    "ExecuteTime": {
     "end_time": "2019-04-03T20:17:42.247245Z",
     "start_time": "2019-04-03T20:17:42.228451Z"
    },
    "nbgrader": {
     "grade": false,
     "grade_id": "q1-answer",
     "locked": false,
     "schema_version": 2,
     "solution": true
    }
   },
   "outputs": [
    {
     "name": "stdout",
     "output_type": "stream",
     "text": [
      "url: http://boingboing.net/#85534171\n",
      " date: not supplied\n",
      " \n",
      " arts and letters daily, a wonderful and dense blog, has folded up its tent due \n",
      " to the bankruptcy of its parent company. a&l daily will be auctioned off by the \n",
      " receivers. link[1] discuss[2] (_thanks, misha!_)\n",
      " \n",
      " [1] http://www.aldaily.com/\n",
      " [2] http://www.quicktopic.com/boing/h/zlfterjnd6jf\n",
      " \n",
      " \n",
      "\n",
      "<html>\n",
      " <head>\n",
      " </head>\n",
      " <body>\n",
      " <font size=3d\"4\"><b> a man endowed with a 7-8\" hammer is simply<br>\n",
      "  better equipped than a man with a 5-6\"hammer. <br>\n",
      " <br>would you rather have<br>more than enough to get the job done or fall =\n",
      " short. it's totally up<br>to you. our methods are guaranteed to increase y=\n",
      " our size by 1-3\"<br> <a href=3d\"http://209.163.187.47/cgi-bin/index.php?10=\n",
      " 004\">come in here and see how</a>\n",
      " </body>\n",
      " </html>\n",
      " \n",
      " \n",
      " \n",
      "\n"
     ]
    }
   ],
   "source": [
    "first_ham = original_training_data[original_training_data[\"spam\"] == 0][\"email\"][0]\n",
    "first_spam = original_training_data[original_training_data[\"spam\"] == 1][\"email\"].iloc[0]\n",
    "#first_ham\n",
    "#first_spam\n",
    "print(first_ham)\n",
    "print(first_spam)"
   ]
  },
  {
   "cell_type": "code",
   "execution_count": 7,
   "metadata": {
    "deletable": false,
    "editable": false
   },
   "outputs": [
    {
     "name": "stdout",
     "output_type": "stream",
     "text": [
      "~~~~~~~~~~~~~~~~~~~~~~~~~~~~~~~~~~~~~~~~~~~~~~~~~~~~~~~~~~~~~~~~~~~~~\n",
      "Running tests\n",
      "\n",
      "---------------------------------------------------------------------\n",
      "Test summary\n",
      "    Passed: 2\n",
      "    Failed: 0\n",
      "[ooooooooook] 100.0% passed\n",
      "\n"
     ]
    }
   ],
   "source": [
    "ok.grade(\"q1b\");"
   ]
  },
  {
   "cell_type": "markdown",
   "metadata": {
    "deletable": false,
    "editable": false
   },
   "source": [
    "### Question 1c\n",
    "\n",
    "Discuss one thing you notice that is different between the two emails that might relate to the identification of spam.\n",
    "\n",
    "<!--\n",
    "BEGIN QUESTION\n",
    "name: q1c\n",
    "manual: True\n",
    "points: 2\n",
    "-->\n",
    "<!-- EXPORT TO PDF -->"
   ]
  },
  {
   "cell_type": "markdown",
   "metadata": {
    "nbgrader": {
     "grade": true,
     "grade_id": "q1-written",
     "locked": false,
     "points": 2,
     "schema_version": 2,
     "solution": true
    },
    "tags": [
     "solution",
     "written",
     "q01"
    ]
   },
   "source": [
    "The spam is in html while ham is not."
   ]
  },
  {
   "cell_type": "markdown",
   "metadata": {
    "nbgrader": {
     "grade": false,
     "grade_id": "cell-78513403ef52a957",
     "locked": true,
     "schema_version": 2,
     "solution": false
    }
   },
   "source": [
    "## Training Validation Split\n",
    "The training data we downloaded is all the data we have available for both training models and **validating** the models that we train.  We therefore need to split the training data into separate training and validation datsets.  You will need this **validation data** to assess the performance of your classifier once you are finished training. Note that we set the seed (random_state) to 42. This will produce a pseudo-random sequence of random numbers that is the same for every student. **Do not modify this in the following questions, as our tests depend on this random seed.**"
   ]
  },
  {
   "cell_type": "code",
   "execution_count": 8,
   "metadata": {
    "ExecuteTime": {
     "end_time": "2019-04-03T20:17:42.317970Z",
     "start_time": "2019-04-03T20:17:42.294532Z"
    },
    "nbgrader": {
     "grade": false,
     "grade_id": "cell-873194ed3e686dfb",
     "locked": true,
     "schema_version": 2,
     "solution": false
    }
   },
   "outputs": [],
   "source": [
    "from sklearn.model_selection import train_test_split\n",
    "\n",
    "train, val = train_test_split(original_training_data, test_size=0.1, random_state=42)"
   ]
  },
  {
   "cell_type": "markdown",
   "metadata": {
    "nbgrader": {
     "grade": false,
     "grade_id": "feat-eng",
     "locked": true,
     "schema_version": 2,
     "solution": false
    }
   },
   "source": [
    "# Basic Feature Engineering\n",
    "\n",
    "We would like to take the text of an email and predict whether the email is ham or spam. This is a *classification* problem, so we can use logistic regression to train a classifier. Recall that to train an logistic regression model we need a numeric feature matrix $X$ and a vector of corresponding binary labels $y$.  Unfortunately, our data are text, not numbers. To address this, we can create numeric features derived from the email text and use those features for logistic regression.\n",
    "\n",
    "Each row of $X$ is an email. Each column of $X$ contains one feature for all the emails. We'll guide you through creating a simple feature, and you'll create more interesting ones when you are trying to increase your accuracy."
   ]
  },
  {
   "cell_type": "markdown",
   "metadata": {
    "deletable": false,
    "editable": false,
    "nbgrader": {
     "grade": false,
     "grade_id": "q2",
     "locked": true,
     "schema_version": 2,
     "solution": false
    }
   },
   "source": [
    "### Question 2\n",
    "\n",
    "Create a function called `words_in_texts` that takes in a list of `words` and a pandas Series of email `texts`. It should output a 2-dimensional NumPy array containing one row for each email text. The row should contain either a 0 or a 1 for each word in the list: 0 if the word doesn't appear in the text and 1 if the word does. For example:\n",
    "\n",
    "```\n",
    ">>> words_in_texts(['hello', 'bye', 'world'], \n",
    "                   pd.Series(['hello', 'hello worldhello']))\n",
    "\n",
    "array([[1, 0, 0],\n",
    "       [1, 0, 1]])\n",
    "```\n",
    "\n",
    "*The provided tests make sure that your function works correctly, so that you can use it for future questions.*\n",
    "\n",
    "<!--\n",
    "BEGIN QUESTION\n",
    "name: q2\n",
    "points: 3\n",
    "-->"
   ]
  },
  {
   "cell_type": "code",
   "execution_count": 9,
   "metadata": {
    "ExecuteTime": {
     "end_time": "2019-04-03T20:17:42.337281Z",
     "start_time": "2019-04-03T20:17:42.320567Z"
    },
    "nbgrader": {
     "grade": false,
     "grade_id": "q2-answer",
     "locked": false,
     "schema_version": 2,
     "solution": true
    },
    "tags": [
     "student"
    ]
   },
   "outputs": [],
   "source": [
    "def words_in_texts(words, texts):\n",
    "    '''\n",
    "    Args:\n",
    "        words (list-like): words to find\n",
    "        texts (Series): strings to search in\n",
    "    \n",
    "    Returns:\n",
    "        NumPy array of 0s and 1s with shape (n, p) where n is the\n",
    "        number of texts and p is the number of words.\n",
    "    '''\n",
    "    indicator_array = np.array([texts.str.contains(i) for i in words]).T.astype(int)\n",
    "    return indicator_array\n",
    "\n",
    "#words_in_texts(['hello', 'bye', 'world'], pd.Series(['hello', 'hello worldhello']))"
   ]
  },
  {
   "cell_type": "code",
   "execution_count": 10,
   "metadata": {
    "deletable": false,
    "editable": false
   },
   "outputs": [
    {
     "name": "stdout",
     "output_type": "stream",
     "text": [
      "~~~~~~~~~~~~~~~~~~~~~~~~~~~~~~~~~~~~~~~~~~~~~~~~~~~~~~~~~~~~~~~~~~~~~\n",
      "Running tests\n",
      "\n",
      "---------------------------------------------------------------------\n",
      "Test summary\n",
      "    Passed: 2\n",
      "    Failed: 0\n",
      "[ooooooooook] 100.0% passed\n",
      "\n"
     ]
    }
   ],
   "source": [
    "ok.grade(\"q2\");"
   ]
  },
  {
   "cell_type": "markdown",
   "metadata": {
    "nbgrader": {
     "grade": false,
     "grade_id": "eda",
     "locked": true,
     "schema_version": 2,
     "solution": false
    }
   },
   "source": [
    "# Basic EDA\n",
    "\n",
    "We need to identify some features that allow us to distinguish spam emails from ham emails. One idea is to compare the distribution of a single feature in spam emails to the distribution of the same feature in ham emails. If the feature is itself a binary indicator, such as whether a certain word occurs in the text, this amounts to comparing the proportion of spam emails with the word to the proportion of ham emails with the word.\n"
   ]
  },
  {
   "cell_type": "markdown",
   "metadata": {
    "nbgrader": {
     "grade": false,
     "grade_id": "q3a",
     "locked": true,
     "schema_version": 2,
     "solution": false
    }
   },
   "source": [
    "The following plot (which was created using `sns.barplot`) compares the proportion of emails in each class containing a particular set of words. \n",
    "\n",
    "![training conditional proportions](./images/training_conditional_proportions.png \"Class Conditional Proportions\")\n",
    "\n",
    "Hint:\n",
    "- You can use DataFrame's `.melt` method to \"unpivot\" a DataFrame. See the following code cell for an example."
   ]
  },
  {
   "cell_type": "code",
   "execution_count": 11,
   "metadata": {
    "ExecuteTime": {
     "end_time": "2019-04-03T20:17:42.428419Z",
     "start_time": "2019-04-03T20:17:42.386697Z"
    }
   },
   "outputs": [
    {
     "data": {
      "text/markdown": [
       "> Our Original DataFrame has some words column and a type column. You can think of each row as a sentence, and the value of 1 or 0 indicates the number of occurances of the word in this sentence."
      ],
      "text/plain": [
       "<IPython.core.display.Markdown object>"
      ]
     },
     "metadata": {},
     "output_type": "display_data"
    },
    {
     "data": {
      "text/html": [
       "<div>\n",
       "<style scoped>\n",
       "    .dataframe tbody tr th:only-of-type {\n",
       "        vertical-align: middle;\n",
       "    }\n",
       "\n",
       "    .dataframe tbody tr th {\n",
       "        vertical-align: top;\n",
       "    }\n",
       "\n",
       "    .dataframe thead th {\n",
       "        text-align: right;\n",
       "    }\n",
       "</style>\n",
       "<table border=\"1\" class=\"dataframe\">\n",
       "  <thead>\n",
       "    <tr style=\"text-align: right;\">\n",
       "      <th></th>\n",
       "      <th>word_1</th>\n",
       "      <th>word_2</th>\n",
       "      <th>type</th>\n",
       "    </tr>\n",
       "  </thead>\n",
       "  <tbody>\n",
       "    <tr>\n",
       "      <th>0</th>\n",
       "      <td>1</td>\n",
       "      <td>0</td>\n",
       "      <td>spam</td>\n",
       "    </tr>\n",
       "    <tr>\n",
       "      <th>1</th>\n",
       "      <td>0</td>\n",
       "      <td>1</td>\n",
       "      <td>ham</td>\n",
       "    </tr>\n",
       "    <tr>\n",
       "      <th>2</th>\n",
       "      <td>1</td>\n",
       "      <td>0</td>\n",
       "      <td>ham</td>\n",
       "    </tr>\n",
       "    <tr>\n",
       "      <th>3</th>\n",
       "      <td>0</td>\n",
       "      <td>1</td>\n",
       "      <td>ham</td>\n",
       "    </tr>\n",
       "  </tbody>\n",
       "</table>\n",
       "</div>"
      ],
      "text/plain": [
       "   word_1  word_2  type\n",
       "0       1       0  spam\n",
       "1       0       1   ham\n",
       "2       1       0   ham\n",
       "3       0       1   ham"
      ]
     },
     "metadata": {},
     "output_type": "display_data"
    },
    {
     "data": {
      "text/markdown": [
       "> `melt` will turn columns into variale, notice how `word_1` and `word_2` become `variable`, their values are stored in the value column"
      ],
      "text/plain": [
       "<IPython.core.display.Markdown object>"
      ]
     },
     "metadata": {},
     "output_type": "display_data"
    },
    {
     "data": {
      "text/html": [
       "<div>\n",
       "<style scoped>\n",
       "    .dataframe tbody tr th:only-of-type {\n",
       "        vertical-align: middle;\n",
       "    }\n",
       "\n",
       "    .dataframe tbody tr th {\n",
       "        vertical-align: top;\n",
       "    }\n",
       "\n",
       "    .dataframe thead th {\n",
       "        text-align: right;\n",
       "    }\n",
       "</style>\n",
       "<table border=\"1\" class=\"dataframe\">\n",
       "  <thead>\n",
       "    <tr style=\"text-align: right;\">\n",
       "      <th></th>\n",
       "      <th>type</th>\n",
       "      <th>variable</th>\n",
       "      <th>value</th>\n",
       "    </tr>\n",
       "  </thead>\n",
       "  <tbody>\n",
       "    <tr>\n",
       "      <th>0</th>\n",
       "      <td>spam</td>\n",
       "      <td>word_1</td>\n",
       "      <td>1</td>\n",
       "    </tr>\n",
       "    <tr>\n",
       "      <th>1</th>\n",
       "      <td>ham</td>\n",
       "      <td>word_1</td>\n",
       "      <td>0</td>\n",
       "    </tr>\n",
       "    <tr>\n",
       "      <th>2</th>\n",
       "      <td>ham</td>\n",
       "      <td>word_1</td>\n",
       "      <td>1</td>\n",
       "    </tr>\n",
       "    <tr>\n",
       "      <th>3</th>\n",
       "      <td>ham</td>\n",
       "      <td>word_1</td>\n",
       "      <td>0</td>\n",
       "    </tr>\n",
       "    <tr>\n",
       "      <th>4</th>\n",
       "      <td>spam</td>\n",
       "      <td>word_2</td>\n",
       "      <td>0</td>\n",
       "    </tr>\n",
       "    <tr>\n",
       "      <th>5</th>\n",
       "      <td>ham</td>\n",
       "      <td>word_2</td>\n",
       "      <td>1</td>\n",
       "    </tr>\n",
       "    <tr>\n",
       "      <th>6</th>\n",
       "      <td>ham</td>\n",
       "      <td>word_2</td>\n",
       "      <td>0</td>\n",
       "    </tr>\n",
       "    <tr>\n",
       "      <th>7</th>\n",
       "      <td>ham</td>\n",
       "      <td>word_2</td>\n",
       "      <td>1</td>\n",
       "    </tr>\n",
       "  </tbody>\n",
       "</table>\n",
       "</div>"
      ],
      "text/plain": [
       "   type variable  value\n",
       "0  spam   word_1      1\n",
       "1   ham   word_1      0\n",
       "2   ham   word_1      1\n",
       "3   ham   word_1      0\n",
       "4  spam   word_2      0\n",
       "5   ham   word_2      1\n",
       "6   ham   word_2      0\n",
       "7   ham   word_2      1"
      ]
     },
     "metadata": {},
     "output_type": "display_data"
    }
   ],
   "source": [
    "from IPython.display import display, Markdown\n",
    "df = pd.DataFrame({\n",
    "    'word_1': [1, 0, 1, 0],\n",
    "    'word_2': [0, 1, 0, 1],\n",
    "    'type': ['spam', 'ham', 'ham', 'ham']\n",
    "})\n",
    "display(Markdown(\"> Our Original DataFrame has some words column and a type column. You can think of each row as a sentence, and the value of 1 or 0 indicates the number of occurances of the word in this sentence.\"))\n",
    "display(df);\n",
    "display(Markdown(\"> `melt` will turn columns into variale, notice how `word_1` and `word_2` become `variable`, their values are stored in the value column\"))\n",
    "display(df.melt(\"type\"))"
   ]
  },
  {
   "cell_type": "markdown",
   "metadata": {
    "deletable": false,
    "editable": false
   },
   "source": [
    "### Question 3a\n",
    "\n",
    "Create a bar chart like the one above comparing the proportion of spam and ham emails containing certain words. Choose a set of words that are different from the ones above, but also have different proportions for the two classes. Make sure to only consider emails from `train`.\n",
    "\n",
    "<!--\n",
    "BEGIN QUESTION\n",
    "name: q3a\n",
    "manual: True\n",
    "format: image\n",
    "points: 2\n",
    "-->\n",
    "<!-- EXPORT TO PDF format:image -->"
   ]
  },
  {
   "cell_type": "code",
   "execution_count": 12,
   "metadata": {
    "ExecuteTime": {
     "end_time": "2019-04-03T20:17:43.145246Z",
     "start_time": "2019-04-03T20:17:42.430406Z"
    },
    "nbgrader": {
     "grade": true,
     "grade_id": "q3a-answer",
     "locked": false,
     "points": 2,
     "schema_version": 2,
     "solution": true
    }
   },
   "outputs": [
    {
     "data": {
      "text/plain": [
       "Text(0, 0.5, 'Proportion of Emails')"
      ]
     },
     "execution_count": 12,
     "metadata": {},
     "output_type": "execute_result"
    },
    {
     "data": {
      "image/png": "[encoded data removed]",
      "text/plain": [
       "<Figure size 432x288 with 1 Axes>"
      ]
     },
     "metadata": {
      "needs_background": "light"
     },
     "output_type": "display_data"
    }
   ],
   "source": [
    "train=train.reset_index(drop=True) # We must do this in order to preserve the ordering of emails to labels for words_in_texts\n",
    "\n",
    "word_lst = [\"save\", \"want\", \"value\", \"off\", \"our\", \"best\"]\n",
    "if_contains = words_in_texts(word_lst, train[\"email\"])\n",
    "words = pd.DataFrame({\"type\": train[\"spam\"], \"if_contains\": if_contains.tolist()})\n",
    "sep_words = pd.DataFrame(words.if_contains.values.tolist(), index = words.index)\n",
    "sep_words[\"type\"] = words[\"type\"]\n",
    "sep_words = sep_words.rename(columns = {0: word_lst[0], 1: word_lst[1], 2: word_lst[2], 3: word_lst[3], 4: word_lst[4], 5: word_lst[5]})\n",
    "sep_words = sep_words.melt(\"type\")\n",
    "sep_words[\"type\"] = sep_words[\"type\"].map({0: \"ham\", 1: \"spam\"})\n",
    "#sep_words\n",
    "sns.barplot(x = \"variable\", y = \"value\", data = sep_words, hue = \"type\", ci = None)\n",
    "plt.title(\"Frequency of Words in Spam/Ham Emails\")\n",
    "plt.xlabel(\"Words\")\n",
    "plt.ylabel(\"Proportion of Emails\")"
   ]
  },
  {
   "cell_type": "markdown",
   "metadata": {
    "nbgrader": {
     "grade": false,
     "grade_id": "q3b",
     "locked": true,
     "schema_version": 2,
     "solution": false
    }
   },
   "source": [
    "When the feature is binary, it makes sense to compare its proportions across classes (as in the previous question). Otherwise, if the feature can take on numeric values, we can compare the distributions of these values for different classes. \n",
    "\n",
    "![training conditional densities](./images/training_conditional_densities2.png \"Class Conditional Densities\")\n"
   ]
  },
  {
   "cell_type": "markdown",
   "metadata": {
    "deletable": false,
    "editable": false
   },
   "source": [
    "### Question 3b\n",
    "\n",
    "Create a *class conditional density plot* like the one above (using `sns.distplot`), comparing the distribution of the length of spam emails to the distribution of the length of ham emails in the training set. Set the x-axis limit from 0 to 50000.\n",
    "\n",
    "<!--\n",
    "BEGIN QUESTION\n",
    "name: q3b\n",
    "manual: True\n",
    "format: image\n",
    "points: 2\n",
    "-->\n",
    "<!-- EXPORT TO PDF format:image -->"
   ]
  },
  {
   "cell_type": "code",
   "execution_count": 13,
   "metadata": {
    "ExecuteTime": {
     "end_time": "2019-04-03T20:17:43.492661Z",
     "start_time": "2019-04-03T20:17:43.149431Z"
    },
    "nbgrader": {
     "grade": true,
     "grade_id": "q3b-answer",
     "locked": false,
     "points": 2,
     "schema_version": 2,
     "solution": true
    }
   },
   "outputs": [
    {
     "data": {
      "text/plain": [
       "<matplotlib.legend.Legend at 0x7efdc5cf9e80>"
      ]
     },
     "execution_count": 13,
     "metadata": {},
     "output_type": "execute_result"
    },
    {
     "data": {
      "image/png": "[encoded data removed]",
      "text/plain": [
       "<Figure size 432x288 with 1 Axes>"
      ]
     },
     "metadata": {
      "needs_background": "light"
     },
     "output_type": "display_data"
    }
   ],
   "source": [
    "lens = [len(i) for i in train[\"email\"]]\n",
    "lenths_hs = pd.DataFrame({\"type\": train[\"spam\"], \"lens\": lens})\n",
    "lenths_hs[\"type\"] = lenths_hs[\"type\"].map({0: \"ham\", 1: \"spam\"})\n",
    "lenths_hs\n",
    "#type(lenths_hs[\"lens\"])\n",
    "sns.distplot(lenths_hs[lenths_hs[\"type\"] == \"ham\"][\"lens\"], hist = False, label = \"Ham\")\n",
    "sns.distplot(lenths_hs[lenths_hs[\"type\"] == \"spam\"][\"lens\"], hist = False, label = \"Spam\")\n",
    "plt.xlim(0, 50000)\n",
    "plt.xlabel(\"Length of email body\")\n",
    "plt.ylabel(\"Distribution\")\n",
    "plt.legend()"
   ]
  },
  {
   "cell_type": "markdown",
   "metadata": {
    "nbgrader": {
     "grade": false,
     "grade_id": "classification",
     "locked": true,
     "schema_version": 2,
     "solution": false
    }
   },
   "source": [
    "# Basic Classification\n",
    "\n",
    "Notice that the output of `words_in_texts(words, train['email'])` is a numeric matrix containing features for each email. This means we can use it directly to train a classifier!"
   ]
  },
  {
   "cell_type": "markdown",
   "metadata": {
    "deletable": false,
    "editable": false,
    "nbgrader": {
     "grade": false,
     "grade_id": "q4",
     "locked": true,
     "schema_version": 2,
     "solution": false
    }
   },
   "source": [
    "### Question 4\n",
    "\n",
    "We've given you 5 words that might be useful as features to distinguish spam/ham emails. Use these words as well as the `train` DataFrame to create two NumPy arrays: `X_train` and `Y_train`.\n",
    "\n",
    "`X_train` should be a matrix of 0s and 1s created by using your `words_in_texts` function on all the emails in the training set.\n",
    "\n",
    "`Y_train` should be a vector of the correct labels for each email in the training set.\n",
    "\n",
    "*The provided tests check that the dimensions of your feature matrix (X) are correct, and that your features and labels are binary (i.e. consists of 0 and 1, no other values). It does not check that your function is correct; that was verified in a previous question.*\n",
    "<!--\n",
    "BEGIN QUESTION\n",
    "name: q4\n",
    "points: 2\n",
    "-->"
   ]
  },
  {
   "cell_type": "code",
   "execution_count": 14,
   "metadata": {
    "ExecuteTime": {
     "end_time": "2019-04-03T20:17:43.726012Z",
     "start_time": "2019-04-03T20:17:43.498088Z"
    },
    "nbgrader": {
     "grade": false,
     "grade_id": "q4-answer",
     "locked": false,
     "schema_version": 2,
     "solution": true
    },
    "tags": [
     "student"
    ]
   },
   "outputs": [
    {
     "data": {
      "text/plain": [
       "(array([[0, 0, 0, 0, 0],\n",
       "        [0, 0, 0, 0, 0],\n",
       "        [0, 0, 0, 0, 0],\n",
       "        [0, 0, 0, 0, 0],\n",
       "        [0, 0, 0, 1, 0]]), 0    0\n",
       " 1    0\n",
       " 2    0\n",
       " 3    0\n",
       " 4    0\n",
       " Name: spam, dtype: int64)"
      ]
     },
     "execution_count": 14,
     "metadata": {},
     "output_type": "execute_result"
    }
   ],
   "source": [
    "some_words = ['drug', 'bank', 'prescription', 'memo', 'private']\n",
    "\n",
    "X_train = words_in_texts(some_words, train[\"email\"])\n",
    "Y_train = train[\"spam\"]\n",
    "\n",
    "X_train[:5], Y_train[:5]"
   ]
  },
  {
   "cell_type": "code",
   "execution_count": 15,
   "metadata": {
    "deletable": false,
    "editable": false
   },
   "outputs": [
    {
     "name": "stdout",
     "output_type": "stream",
     "text": [
      "~~~~~~~~~~~~~~~~~~~~~~~~~~~~~~~~~~~~~~~~~~~~~~~~~~~~~~~~~~~~~~~~~~~~~\n",
      "Running tests\n",
      "\n",
      "---------------------------------------------------------------------\n",
      "Test summary\n",
      "    Passed: 3\n",
      "    Failed: 0\n",
      "[ooooooooook] 100.0% passed\n",
      "\n"
     ]
    }
   ],
   "source": [
    "ok.grade(\"q4\");"
   ]
  },
  {
   "cell_type": "markdown",
   "metadata": {
    "deletable": false,
    "editable": false,
    "nbgrader": {
     "grade": false,
     "grade_id": "q5",
     "locked": true,
     "schema_version": 2,
     "solution": false
    }
   },
   "source": [
    "### Question 5\n",
    "\n",
    "Now that we have matrices, we can use to scikit-learn! Using the [`LogisticRegression`](http://scikit-learn.org/stable/modules/generated/sklearn.linear_model.LogisticRegression.html) classifier, train a logistic regression model using `X_train` and `Y_train`. Then, output the accuracy of the model (on the training data) in the cell below. You should get an accuracy around 0.75.\n",
    "\n",
    "*The provided test checks that you initialized your logistic regression model correctly.*\n",
    "\n",
    "<!--\n",
    "BEGIN QUESTION\n",
    "name: q5\n",
    "points: 2\n",
    "-->"
   ]
  },
  {
   "cell_type": "code",
   "execution_count": 16,
   "metadata": {
    "ExecuteTime": {
     "end_time": "2019-04-03T20:17:44.593918Z",
     "start_time": "2019-04-03T20:17:43.783872Z"
    },
    "nbgrader": {
     "grade": false,
     "grade_id": "q5-answer",
     "locked": false,
     "schema_version": 2,
     "solution": true
    },
    "tags": [
     "student"
    ]
   },
   "outputs": [
    {
     "name": "stdout",
     "output_type": "stream",
     "text": [
      "Training Accuracy:  0.7576201251164648\n"
     ]
    }
   ],
   "source": [
    "from sklearn.linear_model import LogisticRegression\n",
    "\n",
    "model = LogisticRegression()\n",
    "model.fit(X_train, Y_train)\n",
    "Y_pred = model.predict(X_train)\n",
    "\n",
    "training_accuracy = np.count_nonzero(Y_pred == Y_train) / len(Y_train)\n",
    "print(\"Training Accuracy: \", training_accuracy)"
   ]
  },
  {
   "cell_type": "code",
   "execution_count": 17,
   "metadata": {
    "deletable": false,
    "editable": false
   },
   "outputs": [
    {
     "name": "stdout",
     "output_type": "stream",
     "text": [
      "~~~~~~~~~~~~~~~~~~~~~~~~~~~~~~~~~~~~~~~~~~~~~~~~~~~~~~~~~~~~~~~~~~~~~\n",
      "Running tests\n",
      "\n",
      "---------------------------------------------------------------------\n",
      "Test summary\n",
      "    Passed: 1\n",
      "    Failed: 0\n",
      "[ooooooooook] 100.0% passed\n",
      "\n"
     ]
    }
   ],
   "source": [
    "ok.grade(\"q5\");"
   ]
  },
  {
   "cell_type": "markdown",
   "metadata": {},
   "source": [
    "## Evaluating Classifiers"
   ]
  },
  {
   "cell_type": "markdown",
   "metadata": {},
   "source": [
    "That doesn't seem too shabby! But the classifier you made above isn't as good as this might lead us to believe. First, we are evaluating accuracy on the training set, which may provide a misleading accuracy measure, especially if we used the training set to identify discriminative features. In future parts of this analysis, it will be safer to hold out some of our data for model validation and comparison.\n",
    "\n",
    "Presumably, our classifier will be used for **filtering**, i.e. preventing messages labeled `spam` from reaching someone's inbox. There are two kinds of errors we can make:\n",
    "- False positive (FP): a ham email gets flagged as spam and filtered out of the inbox.\n",
    "- False negative (FN): a spam email gets mislabeled as ham and ends up in the inbox.\n",
    "\n",
    "These definitions depend both on the true labels and the predicted labels. False positives and false negatives may be of differing importance, leading us to consider more ways of evaluating a classifier, in addition to overall accuracy:\n",
    "\n",
    "**Precision** measures the proportion $\\frac{\\text{TP}}{\\text{TP} + \\text{FP}}$ of emails flagged as spam that are actually spam.\n",
    "\n",
    "**Recall** measures the proportion $\\frac{\\text{TP}}{\\text{TP} + \\text{FN}}$ of spam emails that were correctly flagged as spam. \n",
    "\n",
    "**False-alarm rate** measures the proportion $\\frac{\\text{FP}}{\\text{FP} + \\text{TN}}$ of ham emails that were incorrectly flagged as spam. \n",
    "\n",
    "The following image might help:\n",
    "\n",
    "<img src=\"https://upload.wikimedia.org/wikipedia/commons/thumb/2/26/Precisionrecall.svg/700px-Precisionrecall.svg.png\" width=\"500px\">\n",
    "\n",
    "Note that a true positive (TP) is a spam email that is classified as spam, and a true negative (TN) is a ham email that is classified as ham."
   ]
  },
  {
   "cell_type": "markdown",
   "metadata": {
    "deletable": false,
    "editable": false,
    "nbgrader": {
     "grade": false,
     "grade_id": "q6",
     "locked": true,
     "schema_version": 2,
     "solution": false
    }
   },
   "source": [
    "### Question 6a\n",
    "\n",
    "Suppose we have a classifier `zero_predictor` that always predicts 0 (never predicts positive). How many false positives and false negatives would this classifier have if it were evaluated on the training set and its results were compared to `Y_train`? Fill in the variables below (answers can be hard-coded):\n",
    "\n",
    "*Tests in Question 6 only check that you have assigned appropriate types of values to each response variable, but do not check that your answers are correct.*\n",
    "\n",
    "<!--\n",
    "BEGIN QUESTION\n",
    "name: q6a\n",
    "points: 1\n",
    "-->"
   ]
  },
  {
   "cell_type": "code",
   "execution_count": 18,
   "metadata": {
    "ExecuteTime": {
     "end_time": "2019-04-03T20:20:13.853633Z",
     "start_time": "2019-04-03T20:20:13.825724Z"
    },
    "nbgrader": {
     "grade": false,
     "grade_id": "q6a-answer",
     "locked": false,
     "schema_version": 2,
     "solution": true
    }
   },
   "outputs": [],
   "source": [
    "zero_predictor = np.zeros(len(Y_train)) # all ham\n",
    "zero_predictor_fp = 0                                           # classified as spam but is ham\n",
    "zero_predictor_fn = np.count_nonzero(zero_predictor != Y_train) # classified as ham but is spam"
   ]
  },
  {
   "cell_type": "code",
   "execution_count": 19,
   "metadata": {
    "deletable": false,
    "editable": false
   },
   "outputs": [
    {
     "name": "stdout",
     "output_type": "stream",
     "text": [
      "~~~~~~~~~~~~~~~~~~~~~~~~~~~~~~~~~~~~~~~~~~~~~~~~~~~~~~~~~~~~~~~~~~~~~\n",
      "Running tests\n",
      "\n",
      "---------------------------------------------------------------------\n",
      "Test summary\n",
      "    Passed: 2\n",
      "    Failed: 0\n",
      "[ooooooooook] 100.0% passed\n",
      "\n"
     ]
    }
   ],
   "source": [
    "ok.grade(\"q6a\");"
   ]
  },
  {
   "cell_type": "markdown",
   "metadata": {
    "deletable": false,
    "editable": false
   },
   "source": [
    "### Question 6b\n",
    "\n",
    "What are the accuracy and recall of `zero_predictor` (classifies every email as ham) on the training set? Do **NOT** use any `sklearn` functions.\n",
    "\n",
    "<!--\n",
    "BEGIN QUESTION\n",
    "name: q6b\n",
    "points: 1\n",
    "-->"
   ]
  },
  {
   "cell_type": "code",
   "execution_count": 20,
   "metadata": {
    "ExecuteTime": {
     "end_time": "2019-04-03T20:23:21.553134Z",
     "start_time": "2019-04-03T20:23:21.548219Z"
    }
   },
   "outputs": [],
   "source": [
    "zero_predictor_acc = np.count_nonzero(Y_train == 0) / len(Y_train)\n",
    "zero_predictor_recall = 0"
   ]
  },
  {
   "cell_type": "code",
   "execution_count": 21,
   "metadata": {
    "deletable": false,
    "editable": false
   },
   "outputs": [
    {
     "name": "stdout",
     "output_type": "stream",
     "text": [
      "~~~~~~~~~~~~~~~~~~~~~~~~~~~~~~~~~~~~~~~~~~~~~~~~~~~~~~~~~~~~~~~~~~~~~\n",
      "Running tests\n",
      "\n",
      "---------------------------------------------------------------------\n",
      "Test summary\n",
      "    Passed: 2\n",
      "    Failed: 0\n",
      "[ooooooooook] 100.0% passed\n",
      "\n"
     ]
    }
   ],
   "source": [
    "ok.grade(\"q6b\");"
   ]
  },
  {
   "cell_type": "markdown",
   "metadata": {
    "deletable": false,
    "editable": false
   },
   "source": [
    "### Question 6c\n",
    "\n",
    "Provide brief explanations of the results from 6a and 6b. Why do we observe each of these values (FP, FN, accuracy, recall)?\n",
    "\n",
    "<!--\n",
    "BEGIN QUESTION\n",
    "name: q6c\n",
    "manual: True\n",
    "points: 2\n",
    "-->\n",
    "<!-- EXPORT TO PDF -->"
   ]
  },
  {
   "cell_type": "markdown",
   "metadata": {},
   "source": [
    "For FP, it is the number of email that is classified as spam but is actually ham. Our zero_predictor classifies every email as ham, so that there would be no email that is classified as spam, so FP = 0. \n",
    "\n",
    "For FN, it is the number of email that is classified as ham but is actually spam. Our zero_predictor classifies every email as ham, so that it would just be those emails that has a wrong classification result as there are no emails classifies as spam.\n",
    "\n",
    "For accuracy, it is the number of emails whose classification result is the same as its actual type, so that it would just be the proportion of hams in all emails as our zero_predictor classifies every email as ham.\n",
    "\n",
    "For recall, the formula calculating it is $\\frac{TP}{TP + FN}$. Since our zero_predictor classifies every email as ham, there would be no spam emails that is correctly classified as spam, so TP = 0 and recall = 0."
   ]
  },
  {
   "cell_type": "markdown",
   "metadata": {
    "deletable": false,
    "editable": false
   },
   "source": [
    "### Question 6d\n",
    "\n",
    "Compute the precision, recall, and false-alarm rate of the `LogisticRegression` classifier created and trained in Question 5. Do **NOT** use any `sklearn` functions.\n",
    "\n",
    "<!--\n",
    "BEGIN QUESTION\n",
    "name: q6d\n",
    "points: 2\n",
    "-->"
   ]
  },
  {
   "cell_type": "code",
   "execution_count": 22,
   "metadata": {
    "ExecuteTime": {
     "end_time": "2019-04-03T20:37:54.875265Z",
     "start_time": "2019-04-03T20:37:54.720667Z"
    }
   },
   "outputs": [
    {
     "data": {
      "text/plain": [
       "(0.6422287390029325, 0.11418143899895725, 0.021805183199285077)"
      ]
     },
     "execution_count": 22,
     "metadata": {},
     "output_type": "execute_result"
    }
   ],
   "source": [
    "logistic_predictor_precision = np.count_nonzero((Y_pred == Y_train)[Y_train == 1]) / (\n",
    "    np.count_nonzero((Y_pred == Y_train)[Y_train == 1]) + np.count_nonzero((Y_pred != Y_train)[Y_train == 0]))\n",
    "\n",
    "logistic_predictor_recall = np.count_nonzero((Y_pred == Y_train)[Y_train == 1]) / (\n",
    "    np.count_nonzero((Y_pred == Y_train)[Y_train == 1]) + np.count_nonzero((Y_pred != Y_train)[Y_train == 1]))\n",
    "\n",
    "logistic_predictor_far = np.count_nonzero((Y_pred != Y_train)[Y_train == 0]) / (\n",
    "    np.count_nonzero((Y_pred != Y_train)[Y_train == 0]) + np.count_nonzero((Y_pred == Y_train)[Y_train == 0]))\n",
    "\n",
    "logistic_predictor_precision, logistic_predictor_recall, logistic_predictor_far"
   ]
  },
  {
   "cell_type": "code",
   "execution_count": 23,
   "metadata": {
    "deletable": false,
    "editable": false
   },
   "outputs": [
    {
     "name": "stdout",
     "output_type": "stream",
     "text": [
      "~~~~~~~~~~~~~~~~~~~~~~~~~~~~~~~~~~~~~~~~~~~~~~~~~~~~~~~~~~~~~~~~~~~~~\n",
      "Running tests\n",
      "\n",
      "---------------------------------------------------------------------\n",
      "Test summary\n",
      "    Passed: 3\n",
      "    Failed: 0\n",
      "[ooooooooook] 100.0% passed\n",
      "\n"
     ]
    }
   ],
   "source": [
    "ok.grade(\"q6d\");"
   ]
  },
  {
   "cell_type": "markdown",
   "metadata": {
    "deletable": false,
    "editable": false
   },
   "source": [
    "### Question 6e\n",
    "\n",
    "Are there more false positives or false negatives when using the logistic regression classifier from Question 5?\n",
    "\n",
    "<!--\n",
    "BEGIN QUESTION\n",
    "name: q6e\n",
    "manual: True\n",
    "points: 1\n",
    "-->\n",
    "<!-- EXPORT TO PDF -->"
   ]
  },
  {
   "cell_type": "markdown",
   "metadata": {},
   "source": [
    "There are more false negative when using the logistic regression classifier from Question 5, as from 6d we can see that the value of precision is larger than the value of recall, indicating that there are more false negative comparing to false prositives."
   ]
  },
  {
   "cell_type": "markdown",
   "metadata": {
    "deletable": false,
    "editable": false
   },
   "source": [
    "### Question 6f\n",
    "\n",
    "1. Our logistic regression classifier got 75.6% prediction accuracy (number of correct predictions / total). How does this compare with predicting 0 for every email?\n",
    "1. Given the word features we gave you above, name one reason this classifier is performing poorly. Hint: Think about how prevalent these words are in the email set.\n",
    "1. Which of these two classifiers would you prefer for a spam filter and why? Describe your reasoning and relate it to at least one of the evaluation metrics you have computed so far.\n",
    "\n",
    "<!--\n",
    "BEGIN QUESTION\n",
    "name: q6f\n",
    "manual: True\n",
    "points: 3\n",
    "-->\n",
    "<!-- EXPORT TO PDF -->"
   ]
  },
  {
   "cell_type": "markdown",
   "metadata": {
    "nbgrader": {
     "grade": true,
     "grade_id": "q6-written",
     "locked": false,
     "points": 3,
     "schema_version": 2,
     "solution": true
    },
    "tags": [
     "solution",
     "written",
     "q06"
    ]
   },
   "source": [
    "1. From 6b we can see that the accuracy of predicting 0 for every email is around 74.5%, which is a bit lower comparing to the logfistic regression classifier's accuracy.\n",
    "\n",
    "2. One reason that this classifier is performing poorly might be the rare occurance os the words in the email set. The rare occurance means that these words are not the main differences between spam and ham emails, so that our logistic regression classifier performs poorly.\n",
    "\n",
    "3. I prefer the zero_predictor more, as we can see that the zero_predictor has a lower false alarm rate comparing to the logistic classifier, so that there would be less email falsely labeled as spam."
   ]
  },
  {
   "cell_type": "markdown",
   "metadata": {
    "nbgrader": {
     "grade": false,
     "grade_id": "p2",
     "locked": true,
     "schema_version": 2,
     "solution": false
    }
   },
   "source": [
    "# Part II - Moving Forward\n",
    "\n",
    "With this in mind, it is now your task to make the spam filter more accurate. In order to get full credit on the accuracy part of this assignment, you must get at least **88%** accuracy on the test set. To see your accuracy on the test set, you will use your classifier to predict every email in the `test` DataFrame and upload your predictions to Kaggle.\n",
    "\n",
    "**Kaggle limits you to four submissions per day**. This means you should start early so you have time if needed to refine your model. You will be able to see your accuracy on the entire set when submitting to Kaggle (the accuracy that will determine your score for question 10).\n",
    "\n",
    "Here are some ideas for improving your model:\n",
    "\n",
    "1. Finding better features based on the email text. Some example features are:\n",
    "    1. Number of characters in the subject / body\n",
    "    1. Number of words in the subject / body\n",
    "    1. Use of punctuation (e.g., how many '!' were there?)\n",
    "    1. Number / percentage of capital letters \n",
    "    1. Whether the email is a reply to an earlier email or a forwarded email\n",
    "1. Finding better (and/or more) words to use as features. Which words are the best at distinguishing emails? This requires digging into the email text itself. \n",
    "1. Better data processing. For example, many emails contain HTML as well as text. You can consider extracting out the text from the HTML to help you find better words. Or, you can match HTML tags themselves, or even some combination of the two.\n",
    "1. Model selection. You can adjust parameters of your model (e.g. the regularization parameter) to achieve higher accuracy. Recall that you should use cross-validation to do feature and model selection properly! Otherwise, you will likely overfit to your training data.\n",
    "\n",
    "You may use whatever method you prefer in order to create features, but **you are not allowed to import any external feature extraction libraries**. In addition, **you are only allowed to train logistic regression models**. No random forests, k-nearest-neighbors, neural nets, etc.\n",
    "\n",
    "We have not provided any code to do this, so feel free to create as many cells as you need in order to tackle this task. However, answering questions 7, 8, and 9 should help guide you.\n",
    "\n",
    "---\n",
    "\n",
    "**Note:** *You should use the **validation data** to evaluate your model and get a better sense of how it will perform on the Kaggle evaluation.*\n",
    "\n",
    "---"
   ]
  },
  {
   "cell_type": "markdown",
   "metadata": {
    "deletable": false,
    "editable": false,
    "nbgrader": {
     "grade": false,
     "grade_id": "q7",
     "locked": true,
     "schema_version": 2,
     "solution": false
    }
   },
   "source": [
    "### Question 7: Feature/Model Selection Process\n",
    "\n",
    "In this following cell, describe the process of improving your model. You should use at least 2-3 sentences each to address the follow questions:\n",
    "\n",
    "1. How did you find better features for your model?\n",
    "2. What did you try that worked / didn't work?\n",
    "3. What was surprising in your search for good features?\n",
    "\n",
    "<!--\n",
    "BEGIN QUESTION\n",
    "name: q7\n",
    "manual: True\n",
    "points: 6\n",
    "-->\n",
    "<!-- EXPORT TO PDF -->"
   ]
  },
  {
   "cell_type": "markdown",
   "metadata": {
    "nbgrader": {
     "grade": true,
     "grade_id": "q7-written",
     "locked": false,
     "points": 6,
     "schema_version": 2,
     "solution": true
    },
    "tags": [
     "student",
     "written",
     "q_feature"
    ]
   },
   "source": [
    "1. I first did all the code stuff, and I tried to calculte rmse for every combination of features and used np.argmin to find the combination that has the lowest rmse.\n",
    "\n",
    "2. I find that only use keywords does not work. I spent a lot of time trying different keywords and I find my accuracy stays nearly the same. So I tried to add more features like the length of the email, which works.\n",
    "\n",
    "3. I was surprising that although some prevalent words may have a large differnce between spam and ham, adding or dropping it actually changes nothing or really just a bit to my model.\n"
   ]
  },
  {
   "cell_type": "markdown",
   "metadata": {
    "deletable": false,
    "editable": false
   },
   "source": [
    "Generate your visualization in the cell below and provide your description in a comment.\n",
    "\n",
    "<!--\n",
    "BEGIN QUESTION\n",
    "name: q8\n",
    "manual: True\n",
    "format: image\n",
    "points: 6\n",
    "-->\n",
    "<!-- EXPORT TO PDF format:image -->"
   ]
  },
  {
   "cell_type": "code",
   "execution_count": 24,
   "metadata": {},
   "outputs": [
    {
     "data": {
      "text/plain": [
       "<matplotlib.legend.Legend at 0x7efdc1809ef0>"
      ]
     },
     "execution_count": 24,
     "metadata": {},
     "output_type": "execute_result"
    },
    {
     "data": {
      "image/png": "[encoded data removed]",
      "text/plain": [
       "<Figure size 432x288 with 1 Axes>"
      ]
     },
     "metadata": {
      "needs_background": "light"
     },
     "output_type": "display_data"
    }
   ],
   "source": [
    "with_features = train.copy()\n",
    "with_features[\"email_len\"] = with_features[\"email\"].apply(len)\n",
    "sns.distplot(with_features[with_features[\"spam\"] == 0][\"email_len\"], hist = False, label = \"ham\")\n",
    "sns.distplot(with_features[with_features[\"spam\"] == 1][\"email_len\"], hist = False, label = \"spam\")\n",
    "plt.legend()"
   ]
  },
  {
   "cell_type": "code",
   "execution_count": 25,
   "metadata": {},
   "outputs": [
    {
     "data": {
      "text/plain": [
       "<matplotlib.legend.Legend at 0x7efdb6a66ef0>"
      ]
     },
     "execution_count": 25,
     "metadata": {},
     "output_type": "execute_result"
    },
    {
     "data": {
      "image/png": "[encoded data removed]",
      "text/plain": [
       "<Figure size 432x288 with 1 Axes>"
      ]
     },
     "metadata": {
      "needs_background": "light"
     },
     "output_type": "display_data"
    }
   ],
   "source": [
    "with_features[\"num_ex\"] = [i.count(\"!\") for i in with_features[\"email\"]]\n",
    "#with_ex_count\n",
    "sns.distplot(with_features[with_features[\"spam\"] == 0][\"num_ex\"], hist = False, label = \"ham\")\n",
    "sns.distplot(with_features[with_features[\"spam\"] == 1][\"num_ex\"], hist = False, label = \"spam\")\n",
    "plt.legend()"
   ]
  },
  {
   "cell_type": "code",
   "execution_count": 26,
   "metadata": {},
   "outputs": [
    {
     "data": {
      "text/plain": [
       "<matplotlib.legend.Legend at 0x7efdb6a9cb38>"
      ]
     },
     "execution_count": 26,
     "metadata": {},
     "output_type": "execute_result"
    },
    {
     "data": {
      "image/png": "[encoded data removed]",
      "text/plain": [
       "<Figure size 432x288 with 1 Axes>"
      ]
     },
     "metadata": {
      "needs_background": "light"
     },
     "output_type": "display_data"
    }
   ],
   "source": [
    "with_features[\"num_words\"] = [len(i.split()) for i in with_features[\"email\"]]\n",
    "#with_ex_count\n",
    "sns.distplot(with_features[with_features[\"spam\"] == 0][\"num_words\"], hist = False, label = \"ham\")\n",
    "sns.distplot(with_features[with_features[\"spam\"] == 1][\"num_words\"], hist = False, label = \"spam\")\n",
    "plt.legend()"
   ]
  },
  {
   "cell_type": "code",
   "execution_count": 27,
   "metadata": {},
   "outputs": [
    {
     "data": {
      "text/html": [
       "<div>\n",
       "<style scoped>\n",
       "    .dataframe tbody tr th:only-of-type {\n",
       "        vertical-align: middle;\n",
       "    }\n",
       "\n",
       "    .dataframe tbody tr th {\n",
       "        vertical-align: top;\n",
       "    }\n",
       "\n",
       "    .dataframe thead th {\n",
       "        text-align: right;\n",
       "    }\n",
       "</style>\n",
       "<table border=\"1\" class=\"dataframe\">\n",
       "  <thead>\n",
       "    <tr style=\"text-align: right;\">\n",
       "      <th></th>\n",
       "      <th>id</th>\n",
       "      <th>subject</th>\n",
       "      <th>email</th>\n",
       "      <th>spam</th>\n",
       "      <th>email_len</th>\n",
       "      <th>num_ex</th>\n",
       "      <th>num_words</th>\n",
       "    </tr>\n",
       "  </thead>\n",
       "  <tbody>\n",
       "    <tr>\n",
       "      <th>0</th>\n",
       "      <td>7657</td>\n",
       "      <td>Subject: Patch to enable/disable log\\n</td>\n",
       "      <td>while i was playing with the past issues, it a...</td>\n",
       "      <td>0</td>\n",
       "      <td>1641</td>\n",
       "      <td>2</td>\n",
       "      <td>222</td>\n",
       "    </tr>\n",
       "    <tr>\n",
       "      <th>1</th>\n",
       "      <td>6911</td>\n",
       "      <td>Subject: When an engineer flaps his wings\\n</td>\n",
       "      <td>url: http://diveintomark.org/archives/2002/10/...</td>\n",
       "      <td>0</td>\n",
       "      <td>4713</td>\n",
       "      <td>0</td>\n",
       "      <td>617</td>\n",
       "    </tr>\n",
       "    <tr>\n",
       "      <th>2</th>\n",
       "      <td>6074</td>\n",
       "      <td>Subject: Re: [Razor-users] razor plugins for m...</td>\n",
       "      <td>no, please post a link!\\n \\n fox\\n ----- origi...</td>\n",
       "      <td>0</td>\n",
       "      <td>1399</td>\n",
       "      <td>3</td>\n",
       "      <td>162</td>\n",
       "    </tr>\n",
       "    <tr>\n",
       "      <th>3</th>\n",
       "      <td>4376</td>\n",
       "      <td>Subject: NYTimes.com Article: Stop Those Press...</td>\n",
       "      <td>this article from nytimes.com \\n has been sent...</td>\n",
       "      <td>0</td>\n",
       "      <td>4435</td>\n",
       "      <td>2</td>\n",
       "      <td>682</td>\n",
       "    </tr>\n",
       "    <tr>\n",
       "      <th>4</th>\n",
       "      <td>5766</td>\n",
       "      <td>Subject: What's facing FBI's new CIO? (Tech Up...</td>\n",
       "      <td>&lt;html&gt;\\n &lt;head&gt;\\n &lt;title&gt;tech update today&lt;/ti...</td>\n",
       "      <td>0</td>\n",
       "      <td>32857</td>\n",
       "      <td>44</td>\n",
       "      <td>2387</td>\n",
       "    </tr>\n",
       "    <tr>\n",
       "      <th>...</th>\n",
       "      <td>...</td>\n",
       "      <td>...</td>\n",
       "      <td>...</td>\n",
       "      <td>...</td>\n",
       "      <td>...</td>\n",
       "      <td>...</td>\n",
       "      <td>...</td>\n",
       "    </tr>\n",
       "    <tr>\n",
       "      <th>7508</th>\n",
       "      <td>5734</td>\n",
       "      <td>Subject: [Spambayes] understanding high false ...</td>\n",
       "      <td>&gt;&gt;&gt;&gt;&gt; \"tp\" == tim peters &lt;tim.one@comcast.net&gt;...</td>\n",
       "      <td>0</td>\n",
       "      <td>465</td>\n",
       "      <td>0</td>\n",
       "      <td>60</td>\n",
       "    </tr>\n",
       "    <tr>\n",
       "      <th>7509</th>\n",
       "      <td>5191</td>\n",
       "      <td>Subject: Reach millions on the internet!!\\n</td>\n",
       "      <td>\\n dear consumers, increase your business sale...</td>\n",
       "      <td>1</td>\n",
       "      <td>7054</td>\n",
       "      <td>36</td>\n",
       "      <td>978</td>\n",
       "    </tr>\n",
       "    <tr>\n",
       "      <th>7510</th>\n",
       "      <td>5390</td>\n",
       "      <td>Subject: Facts about sex.\\n</td>\n",
       "      <td>\\n forwarded-by: flower\\n \\n did you know that...</td>\n",
       "      <td>0</td>\n",
       "      <td>1732</td>\n",
       "      <td>3</td>\n",
       "      <td>279</td>\n",
       "    </tr>\n",
       "    <tr>\n",
       "      <th>7511</th>\n",
       "      <td>860</td>\n",
       "      <td>Subject: Re: Zoot apt/openssh &amp; new DVD playin...</td>\n",
       "      <td>on tue, oct 08, 2002 at 04:36:13pm +0200, matt...</td>\n",
       "      <td>0</td>\n",
       "      <td>1098</td>\n",
       "      <td>0</td>\n",
       "      <td>172</td>\n",
       "    </tr>\n",
       "    <tr>\n",
       "      <th>7512</th>\n",
       "      <td>7270</td>\n",
       "      <td>Subject: Re: Internet radio - example from a c...</td>\n",
       "      <td>chris haun wrote:\\n &gt; \\n &gt; we would need someo...</td>\n",
       "      <td>0</td>\n",
       "      <td>812</td>\n",
       "      <td>1</td>\n",
       "      <td>134</td>\n",
       "    </tr>\n",
       "  </tbody>\n",
       "</table>\n",
       "<p>7513 rows × 7 columns</p>\n",
       "</div>"
      ],
      "text/plain": [
       "        id                                            subject  \\\n",
       "0     7657             Subject: Patch to enable/disable log\\n   \n",
       "1     6911        Subject: When an engineer flaps his wings\\n   \n",
       "2     6074  Subject: Re: [Razor-users] razor plugins for m...   \n",
       "3     4376  Subject: NYTimes.com Article: Stop Those Press...   \n",
       "4     5766  Subject: What's facing FBI's new CIO? (Tech Up...   \n",
       "...    ...                                                ...   \n",
       "7508  5734  Subject: [Spambayes] understanding high false ...   \n",
       "7509  5191        Subject: Reach millions on the internet!!\\n   \n",
       "7510  5390                        Subject: Facts about sex.\\n   \n",
       "7511   860  Subject: Re: Zoot apt/openssh & new DVD playin...   \n",
       "7512  7270  Subject: Re: Internet radio - example from a c...   \n",
       "\n",
       "                                                  email  spam  email_len  \\\n",
       "0     while i was playing with the past issues, it a...     0       1641   \n",
       "1     url: http://diveintomark.org/archives/2002/10/...     0       4713   \n",
       "2     no, please post a link!\\n \\n fox\\n ----- origi...     0       1399   \n",
       "3     this article from nytimes.com \\n has been sent...     0       4435   \n",
       "4     <html>\\n <head>\\n <title>tech update today</ti...     0      32857   \n",
       "...                                                 ...   ...        ...   \n",
       "7508  >>>>> \"tp\" == tim peters <tim.one@comcast.net>...     0        465   \n",
       "7509  \\n dear consumers, increase your business sale...     1       7054   \n",
       "7510  \\n forwarded-by: flower\\n \\n did you know that...     0       1732   \n",
       "7511  on tue, oct 08, 2002 at 04:36:13pm +0200, matt...     0       1098   \n",
       "7512  chris haun wrote:\\n > \\n > we would need someo...     0        812   \n",
       "\n",
       "      num_ex  num_words  \n",
       "0          2        222  \n",
       "1          0        617  \n",
       "2          3        162  \n",
       "3          2        682  \n",
       "4         44       2387  \n",
       "...      ...        ...  \n",
       "7508       0         60  \n",
       "7509      36        978  \n",
       "7510       3        279  \n",
       "7511       0        172  \n",
       "7512       1        134  \n",
       "\n",
       "[7513 rows x 7 columns]"
      ]
     },
     "execution_count": 27,
     "metadata": {},
     "output_type": "execute_result"
    }
   ],
   "source": [
    "with_features"
   ]
  },
  {
   "cell_type": "code",
   "execution_count": 28,
   "metadata": {},
   "outputs": [
    {
     "data": {
      "text/html": [
       "<div>\n",
       "<style scoped>\n",
       "    .dataframe tbody tr th:only-of-type {\n",
       "        vertical-align: middle;\n",
       "    }\n",
       "\n",
       "    .dataframe tbody tr th {\n",
       "        vertical-align: top;\n",
       "    }\n",
       "\n",
       "    .dataframe thead th {\n",
       "        text-align: right;\n",
       "    }\n",
       "</style>\n",
       "<table border=\"1\" class=\"dataframe\">\n",
       "  <thead>\n",
       "    <tr style=\"text-align: right;\">\n",
       "      <th></th>\n",
       "      <th>id</th>\n",
       "      <th>subject</th>\n",
       "      <th>email</th>\n",
       "      <th>spam</th>\n",
       "      <th>email_len</th>\n",
       "      <th>num_ex</th>\n",
       "      <th>num_words</th>\n",
       "    </tr>\n",
       "  </thead>\n",
       "  <tbody>\n",
       "    <tr>\n",
       "      <th>6475</th>\n",
       "      <td>6475</td>\n",
       "      <td>Subject: RE: My brain hurts\\n</td>\n",
       "      <td>&gt; someone tell me a joke, or email me a beer o...</td>\n",
       "      <td>0</td>\n",
       "      <td>1332</td>\n",
       "      <td>5</td>\n",
       "      <td>250</td>\n",
       "    </tr>\n",
       "    <tr>\n",
       "      <th>4559</th>\n",
       "      <td>4559</td>\n",
       "      <td>Subject: Re: [fwd: error exmh 2.5 07/13/2001 ]\\n</td>\n",
       "      <td>--==_exmh_601800448p\\n content-type: text/plai...</td>\n",
       "      <td>0</td>\n",
       "      <td>2111</td>\n",
       "      <td>0</td>\n",
       "      <td>285</td>\n",
       "    </tr>\n",
       "    <tr>\n",
       "      <th>7977</th>\n",
       "      <td>7977</td>\n",
       "      <td>Subject: Re: [ILUG] How to copy some files\\n</td>\n",
       "      <td>on sun, jul 21, 2002 at 01:47:39am +0100, paul...</td>\n",
       "      <td>0</td>\n",
       "      <td>2427</td>\n",
       "      <td>0</td>\n",
       "      <td>430</td>\n",
       "    </tr>\n",
       "    <tr>\n",
       "      <th>4350</th>\n",
       "      <td>4350</td>\n",
       "      <td>Subject: Re: OpenGL\\n</td>\n",
       "      <td>on thu, 1 aug 2002 17:10:48 +0100, john hinsle...</td>\n",
       "      <td>0</td>\n",
       "      <td>1105</td>\n",
       "      <td>0</td>\n",
       "      <td>128</td>\n",
       "    </tr>\n",
       "    <tr>\n",
       "      <th>5593</th>\n",
       "      <td>5593</td>\n",
       "      <td>Subject: Re: req: Falcon's eye\\n</td>\n",
       "      <td>on tue, jul 30, 2002 at 12:17:21am +0300, vill...</td>\n",
       "      <td>0</td>\n",
       "      <td>776</td>\n",
       "      <td>0</td>\n",
       "      <td>111</td>\n",
       "    </tr>\n",
       "    <tr>\n",
       "      <th>...</th>\n",
       "      <td>...</td>\n",
       "      <td>...</td>\n",
       "      <td>...</td>\n",
       "      <td>...</td>\n",
       "      <td>...</td>\n",
       "      <td>...</td>\n",
       "      <td>...</td>\n",
       "    </tr>\n",
       "    <tr>\n",
       "      <th>6478</th>\n",
       "      <td>6478</td>\n",
       "      <td>Subject: Erections O-plenty, Herbal Viagra\\n</td>\n",
       "      <td>&lt;html&gt;\\n &lt;head&gt;\\n    &lt;meta http-equiv=\"content...</td>\n",
       "      <td>1</td>\n",
       "      <td>2570</td>\n",
       "      <td>10</td>\n",
       "      <td>228</td>\n",
       "    </tr>\n",
       "    <tr>\n",
       "      <th>8024</th>\n",
       "      <td>8024</td>\n",
       "      <td>Subject: RE: liberal defnitions\\n</td>\n",
       "      <td>this situation wouldn't have happened in the f...</td>\n",
       "      <td>0</td>\n",
       "      <td>846</td>\n",
       "      <td>0</td>\n",
       "      <td>133</td>\n",
       "    </tr>\n",
       "    <tr>\n",
       "      <th>5001</th>\n",
       "      <td>5001</td>\n",
       "      <td>Subject: Re: [ILUG] packaging risks and the re...</td>\n",
       "      <td>brendan kehoe wrote:\\n &gt; as a workaround, the ...</td>\n",
       "      <td>0</td>\n",
       "      <td>1083</td>\n",
       "      <td>0</td>\n",
       "      <td>162</td>\n",
       "    </tr>\n",
       "    <tr>\n",
       "      <th>4742</th>\n",
       "      <td>4742</td>\n",
       "      <td>Subject: Holidays are coming?\\n</td>\n",
       "      <td>help wanted.  we are a 14 year old fortune 500...</td>\n",
       "      <td>1</td>\n",
       "      <td>743</td>\n",
       "      <td>0</td>\n",
       "      <td>109</td>\n",
       "    </tr>\n",
       "    <tr>\n",
       "      <th>8286</th>\n",
       "      <td>8286</td>\n",
       "      <td>Subject: Make your prints beautiful &amp; SAVE BIG...</td>\n",
       "      <td>&lt;html&gt;\\n \\n &lt;head&gt;\\n &lt;meta http-equiv=3d\"conte...</td>\n",
       "      <td>1</td>\n",
       "      <td>5391</td>\n",
       "      <td>6</td>\n",
       "      <td>437</td>\n",
       "    </tr>\n",
       "  </tbody>\n",
       "</table>\n",
       "<p>835 rows × 7 columns</p>\n",
       "</div>"
      ],
      "text/plain": [
       "        id                                            subject  \\\n",
       "6475  6475                      Subject: RE: My brain hurts\\n   \n",
       "4559  4559   Subject: Re: [fwd: error exmh 2.5 07/13/2001 ]\\n   \n",
       "7977  7977       Subject: Re: [ILUG] How to copy some files\\n   \n",
       "4350  4350                              Subject: Re: OpenGL\\n   \n",
       "5593  5593                   Subject: Re: req: Falcon's eye\\n   \n",
       "...    ...                                                ...   \n",
       "6478  6478       Subject: Erections O-plenty, Herbal Viagra\\n   \n",
       "8024  8024                  Subject: RE: liberal defnitions\\n   \n",
       "5001  5001  Subject: Re: [ILUG] packaging risks and the re...   \n",
       "4742  4742                    Subject: Holidays are coming?\\n   \n",
       "8286  8286  Subject: Make your prints beautiful & SAVE BIG...   \n",
       "\n",
       "                                                  email  spam  email_len  \\\n",
       "6475  > someone tell me a joke, or email me a beer o...     0       1332   \n",
       "4559  --==_exmh_601800448p\\n content-type: text/plai...     0       2111   \n",
       "7977  on sun, jul 21, 2002 at 01:47:39am +0100, paul...     0       2427   \n",
       "4350  on thu, 1 aug 2002 17:10:48 +0100, john hinsle...     0       1105   \n",
       "5593  on tue, jul 30, 2002 at 12:17:21am +0300, vill...     0        776   \n",
       "...                                                 ...   ...        ...   \n",
       "6478  <html>\\n <head>\\n    <meta http-equiv=\"content...     1       2570   \n",
       "8024  this situation wouldn't have happened in the f...     0        846   \n",
       "5001  brendan kehoe wrote:\\n > as a workaround, the ...     0       1083   \n",
       "4742  help wanted.  we are a 14 year old fortune 500...     1        743   \n",
       "8286  <html>\\n \\n <head>\\n <meta http-equiv=3d\"conte...     1       5391   \n",
       "\n",
       "      num_ex  num_words  \n",
       "6475       5        250  \n",
       "4559       0        285  \n",
       "7977       0        430  \n",
       "4350       0        128  \n",
       "5593       0        111  \n",
       "...      ...        ...  \n",
       "6478      10        228  \n",
       "8024       0        133  \n",
       "5001       0        162  \n",
       "4742       0        109  \n",
       "8286       6        437  \n",
       "\n",
       "[835 rows x 7 columns]"
      ]
     },
     "execution_count": 28,
     "metadata": {},
     "output_type": "execute_result"
    }
   ],
   "source": [
    "val = val.fillna(\"\")\n",
    "val_with_features = val.copy()\n",
    "val_with_features[\"email_len\"] = val_with_features[\"email\"].apply(len)\n",
    "val_with_features[\"num_ex\"] = [i.count(\"!\") for i in val_with_features[\"email\"]]\n",
    "val_with_features[\"num_words\"] = [len(i.split()) for i in val_with_features[\"email\"]]\n",
    "val_with_features"
   ]
  },
  {
   "cell_type": "code",
   "execution_count": 29,
   "metadata": {},
   "outputs": [],
   "source": [
    "word_lst_trial = [\"value\", \"our\", \"%\", \"sale\", \"<head>\", \n",
    "                  \"free\", \"<body\", \"color\", \"date\", \"\\$\", \n",
    "                  \"all\", \"check\", \"\\@\", \"pay\", \"cash\", \n",
    "                  \"please\", \"dollar\", \"money\", \"html\", \"business\", \n",
    "                  \"membership\", \"transaction\", \"click\"]"
   ]
  },
  {
   "cell_type": "code",
   "execution_count": 30,
   "metadata": {},
   "outputs": [
    {
     "name": "stdout",
     "output_type": "stream",
     "text": [
      "0.9110874484227339 0.9161676646706587\n"
     ]
    }
   ],
   "source": [
    "features = [word_lst_trial, \"email_len\", \"num_ex\", \"num_words\"]\n",
    "word_contains = words_in_texts(word_lst_trial, with_features[\"email\"])\n",
    "other_features_1 = with_features[features[1:]][\"email_len\"].tolist()\n",
    "other_features_2 = with_features[features[1:]][\"num_ex\"].tolist()\n",
    "other_features_3 = with_features[features[1:]][\"num_words\"].tolist()\n",
    "\n",
    "X_train_final = []\n",
    "for i in np.arange(len(word_contains)):\n",
    "    X_train_final.append([np.append(np.append(np.append(word_contains[i], other_features_1[i]), \n",
    "                                                 other_features_2[i]),\n",
    "                                                 other_features_3[i])])\n",
    "X_train_final = np.array([np.array(i[0]) for i in X_train_final])\n",
    "\n",
    "Y_train_final = with_features[\"spam\"]\n",
    "\n",
    "final_model = LogisticRegression()\n",
    "final_model.fit(X_train_final, Y_train_final)\n",
    "\n",
    "val_word_contains = words_in_texts(word_lst_trial, val_with_features[\"email\"])\n",
    "val_other_features_1 = val_with_features[features[1:]][\"email_len\"].tolist()\n",
    "val_other_features_2 = val_with_features[features[1:]][\"num_ex\"].tolist()\n",
    "val_other_features_3 = val_with_features[features[1:]][\"num_words\"].tolist()\n",
    "\n",
    "X_val_final = []\n",
    "for i in np.arange(len(val_word_contains)):\n",
    "    X_val_final.append([np.append(np.append(np.append(val_word_contains[i], val_other_features_1[i]), \n",
    "                                     val_other_features_2[i]),\n",
    "                                     val_other_features_3[i])])\n",
    "X_val_final = np.array([np.array(i[0]) for i in X_val_final])\n",
    "\n",
    "Y_val_final = val_with_features[\"spam\"]\n",
    "\n",
    "print(final_model.score(X_train_final, Y_train_final), \n",
    "      final_model.score(X_val_final, Y_val_final))"
   ]
  },
  {
   "cell_type": "code",
   "execution_count": 31,
   "metadata": {},
   "outputs": [],
   "source": [
    "#print(train[train[\"spam\"] == 1][\"email\"][20])"
   ]
  },
  {
   "cell_type": "code",
   "execution_count": 32,
   "metadata": {},
   "outputs": [],
   "source": [
    "#train[train[\"spam\"] == 1][\"email\"].index\n",
    "#len(Y_val_final)"
   ]
  },
  {
   "cell_type": "code",
   "execution_count": 33,
   "metadata": {},
   "outputs": [
    {
     "data": {
      "text/plain": [
       "\"\\n    return np.sqrt(sum((actual_y - predicted_y) ** 2) / len(actual_y))\\n\\nfrom sklearn.model_selection import KFold\\n\\ndef compute_CV_error(model, X_train, Y_train):\\n    '''\\n    Split the training data into 4 subsets.\\n    For each subset, \\n        fit a model holding out that subset\\n        compute the MSE on that subset (the validation set)\\n    You should be fitting 4 models total.\\n    Return the average MSE of these 4 folds.\\n\\n    Args:\\n        model: an sklearn model with fit and predict functions \\n        X_train (data_frame): Training data\\n        Y_train (data_frame): Label \\n\\n    Return:\\n        the average validation MSE for the 4 splits.\\n    '''\\n    kf = KFold(n_splits=4)\\n    validation_errors = []\\n    \\n    for train_idx, valid_idx in kf.split(X_train):\\n        # split the data\\n        print(X_train)\\n        split_X_train, split_X_valid = pd.DataFrame(X_train).iloc[train_idx], pd.DataFrame(X_train).iloc[valid_idx]\\n        split_Y_train, split_Y_valid = Y_train.iloc[train_idx], Y_train.iloc[valid_idx]\\n\\n        # Fit the model on the training split\\n        model.fit(split_X_train, split_Y_train)\\n        \\n        # Compute the RMSE on the validation split\\n        error = rmse(split_Y_valid, model.predict(split_X_valid))\\n\\n\\n        validation_errors.append(error)\\n        \\n    return np.mean(validation_errors)\\n#compute_CV_error(new_model, X_train, Y_train)\\n\""
      ]
     },
     "execution_count": 33,
     "metadata": {},
     "output_type": "execute_result"
    }
   ],
   "source": [
    "\"\"\"\n",
    "def rmse(actual_y, predicted_y):\n",
    "\"\"\"\n",
    "    #Args:\n",
    "    #    predicted_y: an array of the prediction from the model\n",
    "    #    actual_y: an array of the groudtruth label\n",
    "        \n",
    "    #Returns:\n",
    "    #    The root mean square error between the prediction and the groudtruth\n",
    "\"\"\"\n",
    "    return np.sqrt(sum((actual_y - predicted_y) ** 2) / len(actual_y))\n",
    "\n",
    "from sklearn.model_selection import KFold\n",
    "\n",
    "def compute_CV_error(model, X_train, Y_train):\n",
    "    '''\n",
    "    Split the training data into 4 subsets.\n",
    "    For each subset, \n",
    "        fit a model holding out that subset\n",
    "        compute the MSE on that subset (the validation set)\n",
    "    You should be fitting 4 models total.\n",
    "    Return the average MSE of these 4 folds.\n",
    "\n",
    "    Args:\n",
    "        model: an sklearn model with fit and predict functions \n",
    "        X_train (data_frame): Training data\n",
    "        Y_train (data_frame): Label \n",
    "\n",
    "    Return:\n",
    "        the average validation MSE for the 4 splits.\n",
    "    '''\n",
    "    kf = KFold(n_splits=4)\n",
    "    validation_errors = []\n",
    "    \n",
    "    for train_idx, valid_idx in kf.split(X_train):\n",
    "        # split the data\n",
    "        print(X_train)\n",
    "        split_X_train, split_X_valid = pd.DataFrame(X_train).iloc[train_idx], pd.DataFrame(X_train).iloc[valid_idx]\n",
    "        split_Y_train, split_Y_valid = Y_train.iloc[train_idx], Y_train.iloc[valid_idx]\n",
    "\n",
    "        # Fit the model on the training split\n",
    "        model.fit(split_X_train, split_Y_train)\n",
    "        \n",
    "        # Compute the RMSE on the validation split\n",
    "        error = rmse(split_Y_valid, model.predict(split_X_valid))\n",
    "\n",
    "\n",
    "        validation_errors.append(error)\n",
    "        \n",
    "    return np.mean(validation_errors)\n",
    "#compute_CV_error(new_model, X_train, Y_train)\n",
    "\"\"\""
   ]
  },
  {
   "cell_type": "code",
   "execution_count": 34,
   "metadata": {},
   "outputs": [
    {
     "data": {
      "text/plain": [
       "'\\nerrors = []\\nfeatures = [[word_lst_trial, \"email_len\"], [word_lst_trial, \"num_ex\"], \\n            [word_lst_trial, \"email_len\", \"num_ex\"], [word_lst_trial, \"email_len\", \"num_ex\", \"num_words\"],\\n            [\"email_len\", \"num_ex\", \"num_words\"]]\\n\\nfor ft in features:\\n    print(f\"Trying feature {ft}\")\\n    new_model_trial = LogisticRegression()\\n    \\n    # compute the cross validation error\\n    word_contains = words_in_texts(word_lst_trial, with_features[\"email\"])\\n    other_features = with_features[features[0][1:]][\"email_len\"].tolist()\\n\\n    X_train_trial = []\\n    for i in np.arange(len(word_contains)):\\n        X_train_trial.append([np.append(word_contains[i], other_features[i])])\\n    X_train_trial = np.array([np.array(i[0]) for i in X_train_trial])\\n        \\n    error = compute_CV_error(new_model_trial, X_train_trial, Y_train)\\n    \\n    #print(\"\\tRMSE:\", error)\\n    errors.append(error)\\n\\nbest_num_features = features[np.argmin(errors)]\\nbest_err = errors[np.argmin(errors)]\\n\\nprint(f\"Best choice: {ft}\")\\n\\n'"
      ]
     },
     "execution_count": 34,
     "metadata": {},
     "output_type": "execute_result"
    }
   ],
   "source": [
    "\"\"\"\n",
    "errors = []\n",
    "features = [[word_lst_trial, \"email_len\"], [word_lst_trial, \"num_ex\"], \n",
    "            [word_lst_trial, \"email_len\", \"num_ex\"], [word_lst_trial, \"email_len\", \"num_ex\", \"num_words\"],\n",
    "            [\"email_len\", \"num_ex\", \"num_words\"]]\n",
    "\n",
    "for ft in features:\n",
    "    print(f\"Trying feature {ft}\")\n",
    "    new_model_trial = LogisticRegression()\n",
    "    \n",
    "    # compute the cross validation error\n",
    "    word_contains = words_in_texts(word_lst_trial, with_features[\"email\"])\n",
    "    other_features = with_features[features[0][1:]][\"email_len\"].tolist()\n",
    "\n",
    "    X_train_trial = []\n",
    "    for i in np.arange(len(word_contains)):\n",
    "        X_train_trial.append([np.append(word_contains[i], other_features[i])])\n",
    "    X_train_trial = np.array([np.array(i[0]) for i in X_train_trial])\n",
    "        \n",
    "    error = compute_CV_error(new_model_trial, X_train_trial, Y_train)\n",
    "    \n",
    "    #print(\"\\tRMSE:\", error)\n",
    "    errors.append(error)\n",
    "\n",
    "best_num_features = features[np.argmin(errors)]\n",
    "best_err = errors[np.argmin(errors)]\n",
    "\n",
    "print(f\"Best choice: {ft}\")\n",
    "\n",
    "\"\"\""
   ]
  },
  {
   "cell_type": "code",
   "execution_count": 35,
   "metadata": {},
   "outputs": [
    {
     "data": {
      "text/plain": [
       "'\\nX_train_onlywords = words_in_texts(word_lst_trial, train[\"email\"])\\nY_train_onlywords = train[\"spam\"]\\n\\nnew_model_onlywords = LogisticRegression()\\nnew_model_onlywords.fit(X_train_onlywords, Y_train_onlywords)\\n#y_scores = new_model_onlywords.predict_proba(X_train_onlywords)\\n\\nval = val.fillna(\"\")\\n\\nX_val_onlywords = words_in_texts(word_lst_trial, val[\"email\"])\\nY_val_onlywords = val[\"spam\"]\\n\\nprint(new_model_onlywords.score(X_train_onlywords, Y_train_onlywords), \\n      new_model_onlywords.score(X_val_onlywords, Y_val_onlywords))\\n\\n#Y_val_pred = new_model.predict(X_val)\\n\\n#validation_accuracy = np.count_nonzero(Y_val_pred == Y_val) / len(Y_val)\\n#print(\"Validation Accuracy: \", validation_accuracy)\\n'"
      ]
     },
     "execution_count": 35,
     "metadata": {},
     "output_type": "execute_result"
    }
   ],
   "source": [
    "\"\"\"\n",
    "X_train_onlywords = words_in_texts(word_lst_trial, train[\"email\"])\n",
    "Y_train_onlywords = train[\"spam\"]\n",
    "\n",
    "new_model_onlywords = LogisticRegression()\n",
    "new_model_onlywords.fit(X_train_onlywords, Y_train_onlywords)\n",
    "#y_scores = new_model_onlywords.predict_proba(X_train_onlywords)\n",
    "\n",
    "val = val.fillna(\"\")\n",
    "\n",
    "X_val_onlywords = words_in_texts(word_lst_trial, val[\"email\"])\n",
    "Y_val_onlywords = val[\"spam\"]\n",
    "\n",
    "print(new_model_onlywords.score(X_train_onlywords, Y_train_onlywords), \n",
    "      new_model_onlywords.score(X_val_onlywords, Y_val_onlywords))\n",
    "\n",
    "#Y_val_pred = new_model.predict(X_val)\n",
    "\n",
    "#validation_accuracy = np.count_nonzero(Y_val_pred == Y_val) / len(Y_val)\n",
    "#print(\"Validation Accuracy: \", validation_accuracy)\n",
    "\"\"\"\n"
   ]
  },
  {
   "cell_type": "code",
   "execution_count": 36,
   "metadata": {},
   "outputs": [
    {
     "data": {
      "text/plain": [
       "'\\nword_contains = words_in_texts(word_lst_trial, with_features[\"email\"])\\nother_features = with_features[features[0][1:]][\"email_len\"].tolist()\\n\\nX_train_wordslen = []\\nfor i in np.arange(len(word_contains)):\\n    X_train_wordslen.append([np.append(word_contains[i], other_features[i])])\\nX_train_wordslen = np.array([np.array(i[0]) for i in X_train_wordslen])\\n\\nY_train_wordslen = with_features[\"spam\"]\\n\\nnew_model_wordslen = LogisticRegression()\\nnew_model_wordslen.fit(X_train_wordslen, Y_train_wordslen)\\n\\nval_word_contains = words_in_texts(word_lst_trial, val_with_features[\"email\"])\\nval_other_features = val_with_features[features[0][1:]][\"email_len\"].tolist()\\n\\nX_val_wordslen = []\\nfor i in np.arange(len(val_word_contains)):\\n    X_val_wordslen.append([np.append(val_word_contains[i], val_other_features[i])])\\nX_val_wordslen = np.array([np.array(i[0]) for i in X_val_wordslen])\\n\\nY_val_wordslen = val_with_features[\"spam\"]\\n\\nprint(new_model_wordslen.score(X_train_wordslen, Y_train_wordslen), \\n      new_model_wordslen.score(X_val_wordslen, Y_val_wordslen))\\n'"
      ]
     },
     "execution_count": 36,
     "metadata": {},
     "output_type": "execute_result"
    }
   ],
   "source": [
    "\"\"\"\n",
    "word_contains = words_in_texts(word_lst_trial, with_features[\"email\"])\n",
    "other_features = with_features[features[0][1:]][\"email_len\"].tolist()\n",
    "\n",
    "X_train_wordslen = []\n",
    "for i in np.arange(len(word_contains)):\n",
    "    X_train_wordslen.append([np.append(word_contains[i], other_features[i])])\n",
    "X_train_wordslen = np.array([np.array(i[0]) for i in X_train_wordslen])\n",
    "\n",
    "Y_train_wordslen = with_features[\"spam\"]\n",
    "\n",
    "new_model_wordslen = LogisticRegression()\n",
    "new_model_wordslen.fit(X_train_wordslen, Y_train_wordslen)\n",
    "\n",
    "val_word_contains = words_in_texts(word_lst_trial, val_with_features[\"email\"])\n",
    "val_other_features = val_with_features[features[0][1:]][\"email_len\"].tolist()\n",
    "\n",
    "X_val_wordslen = []\n",
    "for i in np.arange(len(val_word_contains)):\n",
    "    X_val_wordslen.append([np.append(val_word_contains[i], val_other_features[i])])\n",
    "X_val_wordslen = np.array([np.array(i[0]) for i in X_val_wordslen])\n",
    "\n",
    "Y_val_wordslen = val_with_features[\"spam\"]\n",
    "\n",
    "print(new_model_wordslen.score(X_train_wordslen, Y_train_wordslen), \n",
    "      new_model_wordslen.score(X_val_wordslen, Y_val_wordslen))\n",
    "\"\"\"\n"
   ]
  },
  {
   "cell_type": "code",
   "execution_count": 37,
   "metadata": {},
   "outputs": [
    {
     "data": {
      "text/plain": [
       "'\\nword_contains = words_in_texts(word_lst_trial, with_features[\"email\"])\\nother_features = with_features[features[1][1:]][\"num_ex\"].tolist()\\n\\nX_train_wordslen = []\\nfor i in np.arange(len(word_contains)):\\n    X_train_wordslen.append([np.append(word_contains[i], other_features[i])])\\nX_train_wordslen = np.array([np.array(i[0]) for i in X_train_wordslen])\\n\\nY_train_wordslen = with_features[\"spam\"]\\n\\nnew_model_wordslen = LogisticRegression()\\nnew_model_wordslen.fit(X_train_wordslen, Y_train_wordslen)\\n\\nval_word_contains = words_in_texts(word_lst_trial, val_with_features[\"email\"])\\nval_other_features = val_with_features[features[1][1:]][\"num_ex\"].tolist()\\n\\nX_val_wordslen = []\\nfor i in np.arange(len(val_word_contains)):\\n    X_val_wordslen.append([np.append(val_word_contains[i], val_other_features[i])])\\nX_val_wordslen = np.array([np.array(i[0]) for i in X_val_wordslen])\\n\\nY_val_wordslen = val_with_features[\"spam\"]\\n\\nprint(new_model_wordslen.score(X_train_wordslen, Y_train_wordslen), \\n      new_model_wordslen.score(X_val_wordslen, Y_val_wordslen))\\n'"
      ]
     },
     "execution_count": 37,
     "metadata": {},
     "output_type": "execute_result"
    }
   ],
   "source": [
    "\"\"\"\n",
    "word_contains = words_in_texts(word_lst_trial, with_features[\"email\"])\n",
    "other_features = with_features[features[1][1:]][\"num_ex\"].tolist()\n",
    "\n",
    "X_train_wordslen = []\n",
    "for i in np.arange(len(word_contains)):\n",
    "    X_train_wordslen.append([np.append(word_contains[i], other_features[i])])\n",
    "X_train_wordslen = np.array([np.array(i[0]) for i in X_train_wordslen])\n",
    "\n",
    "Y_train_wordslen = with_features[\"spam\"]\n",
    "\n",
    "new_model_wordslen = LogisticRegression()\n",
    "new_model_wordslen.fit(X_train_wordslen, Y_train_wordslen)\n",
    "\n",
    "val_word_contains = words_in_texts(word_lst_trial, val_with_features[\"email\"])\n",
    "val_other_features = val_with_features[features[1][1:]][\"num_ex\"].tolist()\n",
    "\n",
    "X_val_wordslen = []\n",
    "for i in np.arange(len(val_word_contains)):\n",
    "    X_val_wordslen.append([np.append(val_word_contains[i], val_other_features[i])])\n",
    "X_val_wordslen = np.array([np.array(i[0]) for i in X_val_wordslen])\n",
    "\n",
    "Y_val_wordslen = val_with_features[\"spam\"]\n",
    "\n",
    "print(new_model_wordslen.score(X_train_wordslen, Y_train_wordslen), \n",
    "      new_model_wordslen.score(X_val_wordslen, Y_val_wordslen))\n",
    "\"\"\"\n"
   ]
  },
  {
   "cell_type": "code",
   "execution_count": 38,
   "metadata": {},
   "outputs": [
    {
     "data": {
      "text/plain": [
       "'\\nword_contains = words_in_texts(word_lst_trial, with_features[\"email\"])\\nother_features_1 = with_features[features[2][1:]][\"email_len\"].tolist()\\nother_features_2 = with_features[features[2][1:]][\"num_ex\"].tolist()\\n\\nX_train_wordslen = []\\nfor i in np.arange(len(word_contains)):\\n    X_train_wordslen.append([np.append(np.append(word_contains[i], other_features_1[i]), other_features_2[i])])\\nX_train_wordslen = np.array([np.array(i[0]) for i in X_train_wordslen])\\n\\nY_train_wordslen = with_features[\"spam\"]\\n\\nnew_model_wordslen = LogisticRegression()\\nnew_model_wordslen.fit(X_train_wordslen, Y_train_wordslen)\\n\\nval_word_contains = words_in_texts(word_lst_trial, val_with_features[\"email\"])\\nval_other_features_1 = val_with_features[features[2][1:]][\"email_len\"].tolist()\\nval_other_features_2 = val_with_features[features[2][1:]][\"num_ex\"].tolist()\\n\\nX_val_wordslen = []\\nfor i in np.arange(len(val_word_contains)):\\n    X_val_wordslen.append([np.append(np.append(val_word_contains[i], val_other_features_1[i]), val_other_features_2[i])])\\nX_val_wordslen = np.array([np.array(i[0]) for i in X_val_wordslen])\\n\\nY_val_wordslen = val_with_features[\"spam\"]\\n\\nprint(new_model_wordslen.score(X_train_wordslen, Y_train_wordslen), \\n      new_model_wordslen.score(X_val_wordslen, Y_val_wordslen))\\n'"
      ]
     },
     "execution_count": 38,
     "metadata": {},
     "output_type": "execute_result"
    }
   ],
   "source": [
    "\"\"\"\n",
    "word_contains = words_in_texts(word_lst_trial, with_features[\"email\"])\n",
    "other_features_1 = with_features[features[2][1:]][\"email_len\"].tolist()\n",
    "other_features_2 = with_features[features[2][1:]][\"num_ex\"].tolist()\n",
    "\n",
    "X_train_wordslen = []\n",
    "for i in np.arange(len(word_contains)):\n",
    "    X_train_wordslen.append([np.append(np.append(word_contains[i], other_features_1[i]), other_features_2[i])])\n",
    "X_train_wordslen = np.array([np.array(i[0]) for i in X_train_wordslen])\n",
    "\n",
    "Y_train_wordslen = with_features[\"spam\"]\n",
    "\n",
    "new_model_wordslen = LogisticRegression()\n",
    "new_model_wordslen.fit(X_train_wordslen, Y_train_wordslen)\n",
    "\n",
    "val_word_contains = words_in_texts(word_lst_trial, val_with_features[\"email\"])\n",
    "val_other_features_1 = val_with_features[features[2][1:]][\"email_len\"].tolist()\n",
    "val_other_features_2 = val_with_features[features[2][1:]][\"num_ex\"].tolist()\n",
    "\n",
    "X_val_wordslen = []\n",
    "for i in np.arange(len(val_word_contains)):\n",
    "    X_val_wordslen.append([np.append(np.append(val_word_contains[i], val_other_features_1[i]), val_other_features_2[i])])\n",
    "X_val_wordslen = np.array([np.array(i[0]) for i in X_val_wordslen])\n",
    "\n",
    "Y_val_wordslen = val_with_features[\"spam\"]\n",
    "\n",
    "print(new_model_wordslen.score(X_train_wordslen, Y_train_wordslen), \n",
    "      new_model_wordslen.score(X_val_wordslen, Y_val_wordslen))\n",
    "\"\"\"\n"
   ]
  },
  {
   "cell_type": "code",
   "execution_count": 39,
   "metadata": {},
   "outputs": [
    {
     "data": {
      "text/plain": [
       "'\\n#word_contains = words_in_texts(word_lst_trial, with_features[\"email\"])\\nother_features_1 = with_features[features[4][0:]][\"email_len\"].tolist()\\nother_features_2 = with_features[features[4][0:]][\"num_ex\"].tolist()\\nother_features_3 = with_features[features[4][0:]][\"num_words\"].tolist()\\n\\nX_train_wordslen = []\\nfor i in np.arange(len(word_contains)):\\n    X_train_wordslen.append([np.append(np.append(other_features_1[i], other_features_2[i]), other_features_3[i])])\\nX_train_wordslen = np.array([np.array(i[0]) for i in X_train_wordslen])\\n\\nY_train_wordslen = with_features[\"spam\"]\\n\\nnew_model_wordslen = LogisticRegression()\\nnew_model_wordslen.fit(X_train_wordslen, Y_train_wordslen)\\n\\n#val_word_contains = words_in_texts(word_lst_trial, val_with_features[\"email\"])\\nval_other_features_1 = val_with_features[features[4][0:]][\"email_len\"].tolist()\\nval_other_features_2 = val_with_features[features[4][0:]][\"num_ex\"].tolist()\\nval_other_features_3 = val_with_features[features[4][0:]][\"num_words\"].tolist()\\n\\nX_val_wordslen = []\\nfor i in np.arange(len(val_word_contains)):\\n    X_val_wordslen.append([np.append(np.append(val_other_features_1[i], val_other_features_2[i]), val_other_features_3[i])])\\nX_val_wordslen = np.array([np.array(i[0]) for i in X_val_wordslen])\\n\\nY_val_wordslen = val_with_features[\"spam\"]\\n\\nprint(new_model_wordslen.score(X_train_wordslen, Y_train_wordslen), \\n      new_model_wordslen.score(X_val_wordslen, Y_val_wordslen))\\n'"
      ]
     },
     "execution_count": 39,
     "metadata": {},
     "output_type": "execute_result"
    }
   ],
   "source": [
    "\"\"\"\n",
    "#word_contains = words_in_texts(word_lst_trial, with_features[\"email\"])\n",
    "other_features_1 = with_features[features[4][0:]][\"email_len\"].tolist()\n",
    "other_features_2 = with_features[features[4][0:]][\"num_ex\"].tolist()\n",
    "other_features_3 = with_features[features[4][0:]][\"num_words\"].tolist()\n",
    "\n",
    "X_train_wordslen = []\n",
    "for i in np.arange(len(word_contains)):\n",
    "    X_train_wordslen.append([np.append(np.append(other_features_1[i], other_features_2[i]), other_features_3[i])])\n",
    "X_train_wordslen = np.array([np.array(i[0]) for i in X_train_wordslen])\n",
    "\n",
    "Y_train_wordslen = with_features[\"spam\"]\n",
    "\n",
    "new_model_wordslen = LogisticRegression()\n",
    "new_model_wordslen.fit(X_train_wordslen, Y_train_wordslen)\n",
    "\n",
    "#val_word_contains = words_in_texts(word_lst_trial, val_with_features[\"email\"])\n",
    "val_other_features_1 = val_with_features[features[4][0:]][\"email_len\"].tolist()\n",
    "val_other_features_2 = val_with_features[features[4][0:]][\"num_ex\"].tolist()\n",
    "val_other_features_3 = val_with_features[features[4][0:]][\"num_words\"].tolist()\n",
    "\n",
    "X_val_wordslen = []\n",
    "for i in np.arange(len(val_word_contains)):\n",
    "    X_val_wordslen.append([np.append(np.append(val_other_features_1[i], val_other_features_2[i]), val_other_features_3[i])])\n",
    "X_val_wordslen = np.array([np.array(i[0]) for i in X_val_wordslen])\n",
    "\n",
    "Y_val_wordslen = val_with_features[\"spam\"]\n",
    "\n",
    "print(new_model_wordslen.score(X_train_wordslen, Y_train_wordslen), \n",
    "      new_model_wordslen.score(X_val_wordslen, Y_val_wordslen))\n",
    "\"\"\"\n"
   ]
  },
  {
   "cell_type": "markdown",
   "metadata": {
    "nbgrader": {
     "grade": false,
     "grade_id": "q8",
     "locked": true,
     "schema_version": 2,
     "solution": false
    }
   },
   "source": [
    "### Question 8: EDA\n",
    "\n",
    "In the cell below, show a visualization that you used to select features for your model. Include\n",
    "\n",
    "1. A plot showing something meaningful about the data that helped you during feature selection, model selection, or both.\n",
    "2. Two or three sentences describing what you plotted and its implications with respect to your features.\n",
    "\n",
    "Feel to create as many plots as you want in your process of feature selection, but select one for the response cell below.\n",
    "\n",
    "**You should not just produce an identical visualization to question 3.** Specifically, don't show us a bar chart of proportions, or a one-dimensional class-conditional density plot. Any other plot is acceptable, as long as it comes with thoughtful commentary. Here are some ideas:\n",
    "\n",
    "1. Consider the correlation between multiple features (look up correlation plots and `sns.heatmap`). \n",
    "1. Try to show redundancy in a group of features (e.g. `body` and `html` might co-occur relatively frequently, or you might be able to design a feature that captures all html tags and compare it to these). \n",
    "1. Visualize which words have high or low values for some useful statistic.\n",
    "1. Visually depict whether spam emails tend to be wordier (in some sense) than ham emails."
   ]
  },
  {
   "cell_type": "code",
   "execution_count": 40,
   "metadata": {
    "ExecuteTime": {
     "end_time": "2019-04-02T00:27:36.170465Z",
     "start_time": "2019-04-02T00:27:36.167776Z"
    },
    "nbgrader": {
     "grade": true,
     "grade_id": "q8-eda",
     "locked": false,
     "points": 3,
     "schema_version": 2,
     "solution": true
    },
    "tags": [
     "student",
     "written",
     "q_eda1"
    ]
   },
   "outputs": [
    {
     "data": {
      "text/plain": [
       "<matplotlib.axes._subplots.AxesSubplot at 0x7efdb69b1e48>"
      ]
     },
     "execution_count": 40,
     "metadata": {},
     "output_type": "execute_result"
    },
    {
     "data": {
      "image/png": "[encoded data removed]",
      "text/plain": [
       "<Figure size 432x288 with 2 Axes>"
      ]
     },
     "metadata": {
      "needs_background": "light"
     },
     "output_type": "display_data"
    }
   ],
   "source": [
    "# Write your description (2-3 sentences) as a comment here:\n",
    "# What I plot here is a heatmap. It somehow shows the prevalence of the words I chose.\n",
    "#\n",
    "#\n",
    "\n",
    "# Write the code to generate your visualization here:\n",
    "if_contains_trial = words_in_texts(word_lst_trial, train[\"email\"])\n",
    "words_trial = pd.DataFrame({\"type\": train[\"spam\"], \"if_contains\": if_contains_trial.tolist()})\n",
    "sep_words_trial = pd.DataFrame(words_trial.if_contains.values.tolist(), index = words_trial.index)\n",
    "sep_words_trial[\"type\"] = words_trial[\"type\"]\n",
    "sep_words_trial = sep_words_trial.rename(columns = {0: word_lst_trial[0], 1: word_lst_trial[1], \n",
    "                                                    2: word_lst_trial[2], 3: word_lst_trial[3], \n",
    "                                                    4: word_lst_trial[4], 5: word_lst_trial[5], \n",
    "                                                    6: word_lst_trial[6], 7: word_lst_trial[7], \n",
    "                                                    8: word_lst_trial[8], 9: word_lst_trial[9], \n",
    "                                                    10: word_lst_trial[10], 11: word_lst_trial[11],\n",
    "                                                    12: word_lst_trial[12], 13: word_lst_trial[13],\n",
    "                                                    14: word_lst_trial[14], 15: word_lst_trial[15],\n",
    "                                                    16: word_lst_trial[16], 17: word_lst_trial[17],\n",
    "                                                    18: word_lst_trial[18], 19: word_lst_trial[19],\n",
    "                                                    20: word_lst_trial[20], 21: word_lst_trial[21],\n",
    "                                                    22: word_lst_trial[22]})\n",
    "sep_words_trial[\"type\"] = sep_words_trial[\"type\"].map({0: \"ham\", 1: \"spam\"})\n",
    "sep_words_trial = sep_words_trial.groupby(\"type\").sum()\n",
    "sep_words_trial\n",
    "sns.heatmap(sep_words_trial)"
   ]
  },
  {
   "cell_type": "markdown",
   "metadata": {
    "deletable": false,
    "editable": false,
    "nbgrader": {
     "grade": false,
     "grade_id": "q9",
     "locked": true,
     "schema_version": 2,
     "solution": false
    }
   },
   "source": [
    "### Question 9: ROC Curve\n",
    "\n",
    "In most cases we won't be able to get no false positives and no false negatives, so we have to compromise. For example, in the case of cancer screenings, false negatives are comparatively worse than false positives — a false negative means that a patient might not discover a disease until it's too late to treat, while a false positive means that a patient will probably have to take another screening.\n",
    "\n",
    "Recall that logistic regression calculates the probability that an example belongs to a certain class. Then, to classify an example we say that an email is spam if our classifier gives it $\\ge 0.5$ probability of being spam. However, *we can adjust that cutoff*: we can say that an email is spam only if our classifier gives it $\\ge 0.7$ probability of being spam, for example. This is how we can trade off false positives and false negatives.\n",
    "\n",
    "The ROC curve shows this trade off for each possible cutoff probability. In the cell below, plot an ROC curve for your final classifier (the one you use to make predictions for Kaggle). Refer to the Lecture 22 notebook or Section 17.7 of the course text to see how to plot an ROC curve.\n",
    "\n",
    "\n",
    "\n",
    "<!--\n",
    "BEGIN QUESTION\n",
    "name: q9\n",
    "manual: True\n",
    "points: 3\n",
    "-->\n",
    "<!-- EXPORT TO PDF -->"
   ]
  },
  {
   "cell_type": "code",
   "execution_count": 41,
   "metadata": {},
   "outputs": [
    {
     "data": {
      "text/plain": [
       "Text(0.5, 1.0, 'model ROC Curve')"
      ]
     },
     "execution_count": 41,
     "metadata": {},
     "output_type": "execute_result"
    },
    {
     "data": {
      "image/png": "[encoded data removed]",
      "text/plain": [
       "<Figure size 432x288 with 1 Axes>"
      ]
     },
     "metadata": {
      "needs_background": "light"
     },
     "output_type": "display_data"
    }
   ],
   "source": [
    "from sklearn.metrics import roc_curve\n",
    "\n",
    "# Note that you'll want to use the .predict_proba(...) method for your classifier\n",
    "# instead of .predict(...) so you get probabilities, not classes\n",
    "\n",
    "y_scores = final_model.predict_proba(X_train_final)\n",
    "scores = [i[1] for i in y_scores]\n",
    "false_positive_rate_values, sensitivity_values, thresholds = roc_curve(Y_train_final, scores, pos_label=1)\n",
    "\n",
    "plt.step(false_positive_rate_values, sensitivity_values, color='b', where='post')\n",
    "plt.title('model ROC Curve')"
   ]
  },
  {
   "cell_type": "markdown",
   "metadata": {
    "deletable": false,
    "editable": false,
    "nbgrader": {
     "grade": false,
     "grade_id": "q10",
     "locked": true,
     "schema_version": 2,
     "solution": false
    }
   },
   "source": [
    "# Question 10: Submitting to Kaggle\n",
    "\n",
    "The following code will write your predictions on the test dataset to a CSV, which you can submit to Kaggle. You may need to modify it to suit your needs.\n",
    "\n",
    "Save your predictions in a 1-dimensional array called `test_predictions`. *Even if you are not submitting to Kaggle, please make sure you've saved your predictions to `test_predictions` as this is how your score for this question will be determined.*\n",
    "\n",
    "Remember that if you've performed transformations or featurization on the training data, you must also perform the same transformations on the test data in order to make predictions. For example, if you've created features for the words \"drug\" and \"money\" on the training data, you must also extract the same features in order to use scikit-learn's `.predict(...)` method.\n",
    "\n",
    "You should submit your CSV files to https://www.kaggle.com/c/ds100fa19\n",
    "\n",
    "*The provided tests check that your predictions are in the correct format, but you must submit to Kaggle to evaluate your classifier accuracy.*\n",
    "\n",
    "<!--\n",
    "BEGIN QUESTION\n",
    "name: q10\n",
    "points: 15\n",
    "-->"
   ]
  },
  {
   "cell_type": "code",
   "execution_count": 42,
   "metadata": {
    "ExecuteTime": {
     "end_time": "2019-04-02T00:27:38.650695Z",
     "start_time": "2019-04-02T00:27:38.469233Z"
    },
    "nbgrader": {
     "grade": false,
     "grade_id": "q10-answer",
     "locked": false,
     "schema_version": 2,
     "solution": true
    }
   },
   "outputs": [],
   "source": [
    "test = test.fillna(\"\")\n",
    "test_with_features = test.copy()\n",
    "test_with_features[\"email_len\"] = test_with_features[\"email\"].apply(len)\n",
    "test_with_features[\"num_ex\"] = [i.count(\"!\") for i in test_with_features[\"email\"]]\n",
    "test_with_features[\"num_words\"] = [len(i.split()) for i in test_with_features[\"email\"]]\n",
    "#test_with_features\n",
    "\n",
    "features = [word_lst_trial, \"email_len\", \"num_ex\", \"num_words\"]\n",
    "word_contains_test = words_in_texts(word_lst_trial, test_with_features[\"email\"])\n",
    "other_features_1_test = test_with_features[features[1:]][\"email_len\"].tolist()\n",
    "other_features_2_test = test_with_features[features[1:]][\"num_ex\"].tolist()\n",
    "other_features_3_test = test_with_features[features[1:]][\"num_words\"].tolist()\n",
    "\n",
    "X_test = []\n",
    "for i in np.arange(len(word_contains_test)):\n",
    "    X_test.append([np.append(np.append(np.append(word_contains_test[i], other_features_1_test[i]), \n",
    "                                                 other_features_2_test[i]),\n",
    "                                                 other_features_3_test[i])])\n",
    "\n",
    "X_test = np.array([np.array(i[0]) for i in X_test])\n",
    "Y_test_pred = final_model.predict(X_test)\n",
    "\n",
    "test_predictions = final_model.predict(X_test)"
   ]
  },
  {
   "cell_type": "code",
   "execution_count": 43,
   "metadata": {
    "deletable": false,
    "editable": false
   },
   "outputs": [
    {
     "name": "stdout",
     "output_type": "stream",
     "text": [
      "~~~~~~~~~~~~~~~~~~~~~~~~~~~~~~~~~~~~~~~~~~~~~~~~~~~~~~~~~~~~~~~~~~~~~\n",
      "Running tests\n",
      "\n",
      "---------------------------------------------------------------------\n",
      "Test summary\n",
      "    Passed: 3\n",
      "    Failed: 0\n",
      "[ooooooooook] 100.0% passed\n",
      "\n"
     ]
    }
   ],
   "source": [
    "ok.grade(\"q10\");"
   ]
  },
  {
   "cell_type": "markdown",
   "metadata": {
    "nbgrader": {
     "grade": false,
     "grade_id": "cell-d15e30e2a961277d",
     "locked": true,
     "schema_version": 2,
     "solution": false
    }
   },
   "source": [
    "The following saves a file to submit to Kaggle."
   ]
  },
  {
   "cell_type": "code",
   "execution_count": 44,
   "metadata": {
    "ExecuteTime": {
     "end_time": "2019-04-02T00:27:39.986326Z",
     "start_time": "2019-04-02T00:27:38.385Z"
    },
    "nbgrader": {
     "grade": false,
     "grade_id": "cell-8dd1bfadcbe08b00",
     "locked": true,
     "schema_version": 2,
     "solution": false
    }
   },
   "outputs": [
    {
     "name": "stdout",
     "output_type": "stream",
     "text": [
      "Created a CSV file: submission_2019-11-24T22:32:27.csv.\n",
      "You may now upload this CSV file to Kaggle for scoring.\n"
     ]
    }
   ],
   "source": [
    "from datetime import datetime\n",
    "\n",
    "# Assuming that your predictions on the test set are stored in a 1-dimensional array called\n",
    "# test_predictions. Feel free to modify this cell as long you create a CSV in the right format.\n",
    "\n",
    "# Construct and save the submission:\n",
    "submission_df = pd.DataFrame({\n",
    "    \"Id\": test['id'], \n",
    "    \"Class\": test_predictions,\n",
    "}, columns=['Id', 'Class'])\n",
    "timestamp = datetime.isoformat(datetime.now()).split(\".\")[0]\n",
    "submission_df.to_csv(\"submission_{}.csv\".format(timestamp), index=False)\n",
    "\n",
    "print('Created a CSV file: {}.'.format(\"submission_{}.csv\".format(timestamp)))\n",
    "print('You may now upload this CSV file to Kaggle for scoring.')"
   ]
  },
  {
   "cell_type": "code",
   "execution_count": null,
   "metadata": {},
   "outputs": [],
   "source": []
  },
  {
   "cell_type": "markdown",
   "metadata": {
    "deletable": false,
    "editable": false
   },
   "source": [
    "# Submit\n",
    "Make sure you have run all cells in your notebook in order before running the cell below, so that all images/graphs appear in the output.\n",
    "**Please save before submitting!**\n",
    "\n",
    "<!-- EXPECT 9 EXPORTED QUESTIONS -->"
   ]
  },
  {
   "cell_type": "code",
   "execution_count": null,
   "metadata": {
    "deletable": false,
    "editable": false
   },
   "outputs": [
    {
     "name": "stdout",
     "output_type": "stream",
     "text": [
      "Generating PDF...\n",
      "Saved proj2.pdf\n"
     ]
    },
    {
     "data": {
      "application/javascript": [
       "IPython.notebook.save_checkpoint();"
      ],
      "text/plain": [
       "<IPython.core.display.Javascript object>"
      ]
     },
     "metadata": {},
     "output_type": "display_data"
    }
   ],
   "source": [
    "# Save your notebook first, then run this cell to submit.\n",
    "import jassign.to_pdf\n",
    "jassign.to_pdf.generate_pdf('proj2.ipynb', 'proj2.pdf')\n",
    "ok.submit()"
   ]
  },
  {
   "cell_type": "code",
   "execution_count": null,
   "metadata": {},
   "outputs": [],
   "source": []
  }
 ],
 "metadata": {
  "kernelspec": {
   "display_name": "Python 3",
   "language": "python",
   "name": "python3"
  },
  "language_info": {
   "codemirror_mode": {
    "name": "ipython",
    "version": 3
   },
   "file_extension": ".py",
   "mimetype": "text/x-python",
   "name": "python",
   "nbconvert_exporter": "python",
   "pygments_lexer": "ipython3",
   "version": "3.6.4"
  }
 },
 "nbformat": 4,
 "nbformat_minor": 2
}
