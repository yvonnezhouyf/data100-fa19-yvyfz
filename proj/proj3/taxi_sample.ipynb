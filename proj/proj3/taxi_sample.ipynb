{
 "cells": [
  {
   "cell_type": "markdown",
   "metadata": {},
   "source": [
    "# NYC Taxi Trip Sample\n",
    "\n",
    "Code for selecting a sample of the January 2016 NYC yellow taxi trips. You do not need to run or edit this notebook. It's provided for your reference.\n",
    "\n",
    "Original data links were found on the [NYC Taxi and Limosine Commission trip record data page](https://www1.nyc.gov/site/tlc/about/tlc-trip-record-data.page)."
   ]
  },
  {
   "cell_type": "code",
   "execution_count": 1,
   "metadata": {},
   "outputs": [
    {
     "name": "stdout",
     "output_type": "stream",
     "text": [
      "--2019-12-05 16:11:24--  https://s3.amazonaws.com/nyc-tlc/trip+data/yellow_tripdata_2016-01.csv\n",
      "Resolving s3.amazonaws.com (s3.amazonaws.com)... 52.216.106.206\n",
      "Connecting to s3.amazonaws.com (s3.amazonaws.com)|52.216.106.206|:443... connected.\n",
      "HTTP request sent, awaiting response... 200 OK\n",
      "Length: 1708674492 (1.6G) [application/octet-stream]\n",
      "Saving to: ‘yellow_tripdata_2016-01.csv.1’\n",
      "\n",
      "yellow_tripdata_201 100%[===================>]   1.59G  39.4MB/s    in 52s     \n",
      "\n",
      "2019-12-05 16:12:21 (31.4 MB/s) - ‘yellow_tripdata_2016-01.csv.1’ saved [1708674492/1708674492]\n",
      "\n"
     ]
    }
   ],
   "source": [
    "!wget https://s3.amazonaws.com/nyc-tlc/trip+data/yellow_tripdata_2016-01.csv"
   ]
  },
  {
   "cell_type": "markdown",
   "metadata": {},
   "source": [
    "Run the following from the command line:\n",
    "\n",
    "```\n",
    "$ sqlite3\n",
    "sqlite> .mode csv\n",
    "sqlite> .import yellow_tripdata_2016-01.csv yellow\n",
    "```"
   ]
  },
  {
   "cell_type": "code",
   "execution_count": 1,
   "metadata": {},
   "outputs": [
    {
     "ename": "OperationalError",
     "evalue": "no such table: yellow",
     "output_type": "error",
     "traceback": [
      "\u001b[0;31m---------------------------------------------------------------------------\u001b[0m",
      "\u001b[0;31mOperationalError\u001b[0m                          Traceback (most recent call last)",
      "\u001b[0;32m<ipython-input-1-18676ded7382>\u001b[0m in \u001b[0;36m<module>\u001b[0;34m\u001b[0m\n\u001b[1;32m     17\u001b[0m \u001b[0mORDER\u001b[0m \u001b[0mBY\u001b[0m \u001b[0mRANDOM\u001b[0m\u001b[0;34m(\u001b[0m\u001b[0;34m)\u001b[0m\u001b[0;34m\u001b[0m\u001b[0m\n\u001b[1;32m     18\u001b[0m \u001b[0mLIMIT\u001b[0m \u001b[0;36m100000\u001b[0m\u001b[0;34m\u001b[0m\u001b[0m\n\u001b[0;32m---> 19\u001b[0;31m ''')\n\u001b[0m",
      "\u001b[0;31mOperationalError\u001b[0m: no such table: yellow"
     ]
    }
   ],
   "source": [
    "import sqlite3\n",
    "\n",
    "conn = sqlite3.connect('taxi.db')\n",
    "conn.execute('DROP TABLE IF EXISTS taxi')\n",
    "conn.execute('''CREATE TABLE taxi AS \n",
    "SELECT\n",
    "  tpep_pickup_datetime AS pickup_datetime,\n",
    "  tpep_dropoff_datetime AS dropoff_datetime,\n",
    "  CAST(pickup_longitude AS DECIMAL) AS pickup_lon,\n",
    "  CAST(pickup_latitude AS DEMICAL) AS pickup_lat,\n",
    "  CAST(dropoff_longitude AS DEMICAL) AS dropoff_lon,\n",
    "  CAST(dropoff_latitude AS DEMICAL) AS dropoff_lat,\n",
    "  CAST(passenger_count AS INTEGER) AS passengers,\n",
    "  CAST(trip_distance AS DECIMAL) AS distance,\n",
    "  CAST(ROUND((JULIANDAY(tpep_dropoff_datetime)-JULIANDAY(tpep_pickup_datetime))*24*60*60) AS INTEGER) AS duration\n",
    "FROM yellow\n",
    "ORDER BY RANDOM()\n",
    "LIMIT 100000\n",
    "''')"
   ]
  },
  {
   "cell_type": "code",
   "execution_count": null,
   "metadata": {},
   "outputs": [],
   "source": [
    "conn.execute('drop table yellow')\n",
    "conn.execute('VACUUM')\n",
    "conn.close()"
   ]
  },
  {
   "cell_type": "code",
   "execution_count": null,
   "metadata": {},
   "outputs": [],
   "source": []
  },
  {
   "cell_type": "code",
   "execution_count": null,
   "metadata": {},
   "outputs": [],
   "source": []
  }
 ],
 "metadata": {
  "kernelspec": {
   "display_name": "Python 3",
   "language": "python",
   "name": "python3"
  },
  "language_info": {
   "codemirror_mode": {
    "name": "ipython",
    "version": 3
   },
   "file_extension": ".py",
   "mimetype": "text/x-python",
   "name": "python",
   "nbconvert_exporter": "python",
   "pygments_lexer": "ipython3",
   "version": "3.6.4"
  }
 },
 "nbformat": 4,
 "nbformat_minor": 2
}
